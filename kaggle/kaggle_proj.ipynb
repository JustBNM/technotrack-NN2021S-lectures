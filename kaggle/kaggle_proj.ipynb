{
  "nbformat": 4,
  "nbformat_minor": 0,
  "metadata": {
    "colab": {
      "name": "kaggle_proj.ipynb",
      "provenance": [],
      "collapsed_sections": []
    },
    "kernelspec": {
      "display_name": "Python 3",
      "name": "python3"
    },
    "language_info": {
      "name": "python"
    },
    "accelerator": "GPU",
    "widgets": {
      "application/vnd.jupyter.widget-state+json": {
        "1f45a0f29fe9464e8be180e1d47890b6": {
          "model_module": "@jupyter-widgets/controls",
          "model_name": "HBoxModel",
          "state": {
            "_view_name": "HBoxView",
            "_dom_classes": [],
            "_model_name": "HBoxModel",
            "_view_module": "@jupyter-widgets/controls",
            "_model_module_version": "1.5.0",
            "_view_count": null,
            "_view_module_version": "1.5.0",
            "box_style": "",
            "layout": "IPY_MODEL_73e6676a51c2476b8e5b6c11cf79aa8d",
            "_model_module": "@jupyter-widgets/controls",
            "children": [
              "IPY_MODEL_eeb30c0f2b1743298a03f0d4c712469a",
              "IPY_MODEL_8428b886f08a4057a80e1d5610b4340d"
            ]
          }
        },
        "73e6676a51c2476b8e5b6c11cf79aa8d": {
          "model_module": "@jupyter-widgets/base",
          "model_name": "LayoutModel",
          "state": {
            "_view_name": "LayoutView",
            "grid_template_rows": null,
            "right": null,
            "justify_content": null,
            "_view_module": "@jupyter-widgets/base",
            "overflow": null,
            "_model_module_version": "1.2.0",
            "_view_count": null,
            "flex_flow": null,
            "width": null,
            "min_width": null,
            "border": null,
            "align_items": null,
            "bottom": null,
            "_model_module": "@jupyter-widgets/base",
            "top": null,
            "grid_column": null,
            "overflow_y": null,
            "overflow_x": null,
            "grid_auto_flow": null,
            "grid_area": null,
            "grid_template_columns": null,
            "flex": null,
            "_model_name": "LayoutModel",
            "justify_items": null,
            "grid_row": null,
            "max_height": null,
            "align_content": null,
            "visibility": null,
            "align_self": null,
            "height": null,
            "min_height": null,
            "padding": null,
            "grid_auto_rows": null,
            "grid_gap": null,
            "max_width": null,
            "order": null,
            "_view_module_version": "1.2.0",
            "grid_template_areas": null,
            "object_position": null,
            "object_fit": null,
            "grid_auto_columns": null,
            "margin": null,
            "display": null,
            "left": null
          }
        },
        "eeb30c0f2b1743298a03f0d4c712469a": {
          "model_module": "@jupyter-widgets/controls",
          "model_name": "FloatProgressModel",
          "state": {
            "_view_name": "ProgressView",
            "style": "IPY_MODEL_7409b975dc054b97b1e709758bc58f70",
            "_dom_classes": [],
            "description": "100%",
            "_model_name": "FloatProgressModel",
            "bar_style": "success",
            "max": 102502400,
            "_view_module": "@jupyter-widgets/controls",
            "_model_module_version": "1.5.0",
            "value": 102502400,
            "_view_count": null,
            "_view_module_version": "1.5.0",
            "orientation": "horizontal",
            "min": 0,
            "description_tooltip": null,
            "_model_module": "@jupyter-widgets/controls",
            "layout": "IPY_MODEL_1791e0feeb1243d68ddf6bc4fdd0d968"
          }
        },
        "8428b886f08a4057a80e1d5610b4340d": {
          "model_module": "@jupyter-widgets/controls",
          "model_name": "HTMLModel",
          "state": {
            "_view_name": "HTMLView",
            "style": "IPY_MODEL_413577b2ad2d4bfeb750a9a74872fc2c",
            "_dom_classes": [],
            "description": "",
            "_model_name": "HTMLModel",
            "placeholder": "​",
            "_view_module": "@jupyter-widgets/controls",
            "_model_module_version": "1.5.0",
            "value": " 97.8M/97.8M [02:44&lt;00:00, 622kB/s]",
            "_view_count": null,
            "_view_module_version": "1.5.0",
            "description_tooltip": null,
            "_model_module": "@jupyter-widgets/controls",
            "layout": "IPY_MODEL_61f26ae1425d4034b393b3ad932e772f"
          }
        },
        "7409b975dc054b97b1e709758bc58f70": {
          "model_module": "@jupyter-widgets/controls",
          "model_name": "ProgressStyleModel",
          "state": {
            "_view_name": "StyleView",
            "_model_name": "ProgressStyleModel",
            "description_width": "initial",
            "_view_module": "@jupyter-widgets/base",
            "_model_module_version": "1.5.0",
            "_view_count": null,
            "_view_module_version": "1.2.0",
            "bar_color": null,
            "_model_module": "@jupyter-widgets/controls"
          }
        },
        "1791e0feeb1243d68ddf6bc4fdd0d968": {
          "model_module": "@jupyter-widgets/base",
          "model_name": "LayoutModel",
          "state": {
            "_view_name": "LayoutView",
            "grid_template_rows": null,
            "right": null,
            "justify_content": null,
            "_view_module": "@jupyter-widgets/base",
            "overflow": null,
            "_model_module_version": "1.2.0",
            "_view_count": null,
            "flex_flow": null,
            "width": null,
            "min_width": null,
            "border": null,
            "align_items": null,
            "bottom": null,
            "_model_module": "@jupyter-widgets/base",
            "top": null,
            "grid_column": null,
            "overflow_y": null,
            "overflow_x": null,
            "grid_auto_flow": null,
            "grid_area": null,
            "grid_template_columns": null,
            "flex": null,
            "_model_name": "LayoutModel",
            "justify_items": null,
            "grid_row": null,
            "max_height": null,
            "align_content": null,
            "visibility": null,
            "align_self": null,
            "height": null,
            "min_height": null,
            "padding": null,
            "grid_auto_rows": null,
            "grid_gap": null,
            "max_width": null,
            "order": null,
            "_view_module_version": "1.2.0",
            "grid_template_areas": null,
            "object_position": null,
            "object_fit": null,
            "grid_auto_columns": null,
            "margin": null,
            "display": null,
            "left": null
          }
        },
        "413577b2ad2d4bfeb750a9a74872fc2c": {
          "model_module": "@jupyter-widgets/controls",
          "model_name": "DescriptionStyleModel",
          "state": {
            "_view_name": "StyleView",
            "_model_name": "DescriptionStyleModel",
            "description_width": "",
            "_view_module": "@jupyter-widgets/base",
            "_model_module_version": "1.5.0",
            "_view_count": null,
            "_view_module_version": "1.2.0",
            "_model_module": "@jupyter-widgets/controls"
          }
        },
        "61f26ae1425d4034b393b3ad932e772f": {
          "model_module": "@jupyter-widgets/base",
          "model_name": "LayoutModel",
          "state": {
            "_view_name": "LayoutView",
            "grid_template_rows": null,
            "right": null,
            "justify_content": null,
            "_view_module": "@jupyter-widgets/base",
            "overflow": null,
            "_model_module_version": "1.2.0",
            "_view_count": null,
            "flex_flow": null,
            "width": null,
            "min_width": null,
            "border": null,
            "align_items": null,
            "bottom": null,
            "_model_module": "@jupyter-widgets/base",
            "top": null,
            "grid_column": null,
            "overflow_y": null,
            "overflow_x": null,
            "grid_auto_flow": null,
            "grid_area": null,
            "grid_template_columns": null,
            "flex": null,
            "_model_name": "LayoutModel",
            "justify_items": null,
            "grid_row": null,
            "max_height": null,
            "align_content": null,
            "visibility": null,
            "align_self": null,
            "height": null,
            "min_height": null,
            "padding": null,
            "grid_auto_rows": null,
            "grid_gap": null,
            "max_width": null,
            "order": null,
            "_view_module_version": "1.2.0",
            "grid_template_areas": null,
            "object_position": null,
            "object_fit": null,
            "grid_auto_columns": null,
            "margin": null,
            "display": null,
            "left": null
          }
        }
      }
    }
  },
  "cells": [
    {
      "cell_type": "code",
      "metadata": {
        "id": "Ibzf1H1an24z"
      },
      "source": [
        "#!pip install imgaug # with imgaug everything complicated on collab. Try to uninstall it first and then install."
      ],
      "execution_count": null,
      "outputs": []
    },
    {
      "cell_type": "code",
      "metadata": {
        "colab": {
          "base_uri": "https://localhost:8080/"
        },
        "id": "aHmaYZzsGXS9",
        "outputId": "5a10ae7d-b01c-4e3d-a457-bf39f4ad7a40"
      },
      "source": [
        "!pip install pillow --upgrade"
      ],
      "execution_count": null,
      "outputs": [
        {
          "output_type": "stream",
          "text": [
            "Requirement already up-to-date: pillow in /usr/local/lib/python3.7/dist-packages (8.2.0)\n"
          ],
          "name": "stdout"
        }
      ]
    },
    {
      "cell_type": "code",
      "metadata": {
        "colab": {
          "base_uri": "https://localhost:8080/"
        },
        "id": "T7lr4Sr5uOGf",
        "outputId": "4f1ce555-59dc-4600-c19d-398878a1e5d6"
      },
      "source": [
        "!pip install torchvision --upgrade"
      ],
      "execution_count": null,
      "outputs": [
        {
          "output_type": "stream",
          "text": [
            "Requirement already up-to-date: torchvision in /usr/local/lib/python3.7/dist-packages (0.9.1+cu101)\n",
            "Requirement already satisfied, skipping upgrade: pillow>=4.1.1 in /usr/local/lib/python3.7/dist-packages (from torchvision) (8.2.0)\n",
            "Requirement already satisfied, skipping upgrade: torch==1.8.1 in /usr/local/lib/python3.7/dist-packages (from torchvision) (1.8.1+cu101)\n",
            "Requirement already satisfied, skipping upgrade: numpy in /usr/local/lib/python3.7/dist-packages (from torchvision) (1.19.5)\n",
            "Requirement already satisfied, skipping upgrade: typing-extensions in /usr/local/lib/python3.7/dist-packages (from torch==1.8.1->torchvision) (3.7.4.3)\n"
          ],
          "name": "stdout"
        }
      ]
    },
    {
      "cell_type": "code",
      "metadata": {
        "colab": {
          "base_uri": "https://localhost:8080/",
          "height": 17
        },
        "id": "LAE8rl3n29G6",
        "outputId": "16ef3c8d-d155-4445-d76f-8a36268d8953"
      },
      "source": [
        "from IPython.core.display import display, HTML\n",
        "display(HTML('<style>.container {width:80% !important;}</style>'))"
      ],
      "execution_count": null,
      "outputs": [
        {
          "output_type": "display_data",
          "data": {
            "text/html": [
              "<style>.container {width:80% !important;}</style>"
            ],
            "text/plain": [
              "<IPython.core.display.HTML object>"
            ]
          },
          "metadata": {
            "tags": []
          }
        }
      ]
    },
    {
      "cell_type": "code",
      "metadata": {
        "id": "xHLZTPLoqW4j"
      },
      "source": [
        "import torch\n",
        "import torch.nn as nn\n",
        "import torch.nn.functional as F\n",
        "from torch.utils.data import Dataset\n",
        "from torchvision import transforms, utils\n",
        "import torchvision.models as models\n",
        "import torchvision\n",
        "\n",
        "import numpy as np\n",
        "from tqdm import tqdm\n",
        "from queue import Empty, Queue\n",
        "from threading import Thread\n",
        "import threading\n",
        "from torch.autograd import Variable\n",
        "from sklearn.utils import shuffle\n",
        "import pickle\n",
        "import sys\n",
        "import os\n",
        "import matplotlib.pyplot as plt\n",
        "from matplotlib import cm\n",
        "\n",
        "# augmentation library\n",
        "from imgaug.augmentables import Keypoint, KeypointsOnImage\n",
        "import imgaug.augmenters as iaa\n",
        "from PIL import Image\n",
        "import gc\n",
        "import pandas as pd\n",
        "\n",
        "from typing import Tuple, List, Type, Dict, Any"
      ],
      "execution_count": null,
      "outputs": []
    },
    {
      "cell_type": "code",
      "metadata": {
        "colab": {
          "base_uri": "https://localhost:8080/"
        },
        "id": "K0ugUV-AE8c1",
        "outputId": "05f1b97b-e25e-40a6-e412-e7dfc2bbd8f1"
      },
      "source": [
        "from google.colab import drive\n",
        "drive.mount('/content/drive')"
      ],
      "execution_count": null,
      "outputs": [
        {
          "output_type": "stream",
          "text": [
            "Drive already mounted at /content/drive; to attempt to forcibly remount, call drive.mount(\"/content/drive\", force_remount=True).\n"
          ],
          "name": "stdout"
        }
      ]
    },
    {
      "cell_type": "code",
      "metadata": {
        "id": "bDdn221zqymD"
      },
      "source": [
        "num_epochs = 3\n",
        "use_gpu = True\n",
        "batch_size = 40\n",
        "images_base_dir = '/content/drive/.shortcut-targets-by-id/1iT_VL0DN282dlWNQq0PKG8x_vA2CWElT/train/'"
      ],
      "execution_count": null,
      "outputs": []
    },
    {
      "cell_type": "code",
      "metadata": {
        "id": "p_wUmssor-zE"
      },
      "source": [
        "class thread_killer(object):    \n",
        "    \"\"\"Boolean object for signaling a worker thread to terminate\n",
        "    Once a thread is launched, it should be terminated at some moment.\n",
        "    In case the function of this thread is an infinite loop, one needs a mutex\n",
        "    for signaling a worker thread to break the loop.\n",
        "    The fuction will return, and the thread will be terminated.\n",
        "    \"\"\"\n",
        "    \n",
        "    def __init__(self):\n",
        "        self.to_kill = False\n",
        "\n",
        "    def __call__(self):\n",
        "        return self.to_kill\n",
        "\n",
        "    def set_tokill(self, tokill):\n",
        "        self.to_kill = tokill"
      ],
      "execution_count": null,
      "outputs": []
    },
    {
      "cell_type": "code",
      "metadata": {
        "id": "EAHiLqCNsHZc"
      },
      "source": [
        "class Threadsafe_iter:\n",
        "    \"\"\"\n",
        "    Takes an iterator/generator and makes it thread-safe by\n",
        "    serializing call to the `next` method of given iterator/generator.\n",
        "    \"\"\"\n",
        "    def __init__(self, it):\n",
        "        self.it = it\n",
        "        self.lock = threading.Lock()\n",
        "\n",
        "    def __iter__(self):\n",
        "        return self\n",
        "\n",
        "    def __next__(self):\n",
        "        with self.lock:\n",
        "            return next(self.it)\n",
        "\n",
        "def get_objects_i(objects_count):\n",
        "    \"\"\"Cyclic generator of paths indices\"\"\"\n",
        "    current_objects_id = 0\n",
        "    while True:\n",
        "        yield current_objects_id\n",
        "        current_objects_id  = (current_objects_id + 1) % objects_count"
      ],
      "execution_count": null,
      "outputs": []
    },
    {
      "cell_type": "code",
      "metadata": {
        "id": "d7OwqtW-z0Ea"
      },
      "source": [
        "def val_train_split(pkl_file):\n",
        "    with open(pkl_file, 'rb') as f:\n",
        "        marked_data_loaded = pickle.load(f)\n",
        "    total_len = 0\n",
        "    all_data = {i:[] for i in range(9)}\n",
        "    for elem in marked_data_loaded:\n",
        "        all_data[elem['observed_TCC']].append(elem)\n",
        "        \n",
        "    validation_data = []\n",
        "    #####Validation data ######\n",
        "    for i in range(9):\n",
        "        val_len = 500\n",
        "        validation_for_spec_TCC = np.random.choice(all_data[i], size=val_len)\n",
        "        validation_data += list(validation_for_spec_TCC)\n",
        "        print(type(np.array(all_data[i])[0]))\n",
        "        print(type(np.array(validation_for_spec_TCC[0])))\n",
        "        all_data[i] =  np.setdiff1d(np.array(all_data[i]), np.array(validation_for_spec_TCC))\n",
        "    ###########################\n",
        "    return all_data, validation_data\n"
      ],
      "execution_count": null,
      "outputs": []
    },
    {
      "cell_type": "code",
      "metadata": {
        "id": "f2FDkkYQReyV"
      },
      "source": [
        "def get_test_data(pkl_file):\n",
        "    with open(pkl_file, 'rb') as f:\n",
        "        marked_data_loaded = pickle.load(f)\n",
        "    return marked_data_loaded"
      ],
      "execution_count": null,
      "outputs": []
    },
    {
      "cell_type": "code",
      "metadata": {
        "id": "cDVML_oWXeTq"
      },
      "source": [
        "class LandmarksDataset(Dataset):\n",
        "    def __init__(self, pkl_file, root_dir, transform=None, batch_size = 8, augment = True, mode='train'):\n",
        "        \"\"\"\n",
        "        Args:\n",
        "            pkl_file (string): Path to the pkl file with annotations.\n",
        "            root_dir (string): Directory with all the images.\n",
        "            transform (callable, optional): Optional transform to be applied on a sample.\n",
        "            batch_size (int, optional): batch size\n",
        "        \"\"\"\n",
        "        if mode=='train':\n",
        "            self.return_y = True\n",
        "        elif mode=='test':\n",
        "            self.return_y = False\n",
        "        else:\n",
        "            raise ValueError(\"Mode can be only 'train' or 'test'\")\n",
        "        with open(pkl_file, 'rb') as f:\n",
        "            marked_data_loaded = pickle.load(f)\n",
        "        self.total_len = 0\n",
        "        if self.return_y:\n",
        "            self.all_data = {i:[] for i in range(9)}\n",
        "            for elem in marked_data_loaded:\n",
        "                self.all_data[elem['observed_TCC']].append(elem)\n",
        "            self.landmarks_frame = []\n",
        "            for i in range(9):\n",
        "                mass_len = min(5000,len(self.all_data[i])) # change 5000(first number) to any desired number of objects of each TCC\n",
        "                self.total_len += mass_len\n",
        "                self.landmarks_frame += list(np.random.choice(self.all_data[i], size=mass_len))\n",
        "\n",
        "        else:\n",
        "            self.landmarks_frame = marked_data_loaded\n",
        "        self.total_len = len(self.landmarks_frame)\n",
        "        self.root_dir = root_dir\n",
        "        self.transform = transform # This should be only applied to single image!\n",
        "        #Transforms image to appropriate format for loaded torch nn\n",
        "        #Read here: https://pytorch.org/hub/pytorch_vision_resnet/\n",
        "\n",
        "        self.batch_size = batch_size\n",
        "\n",
        "\n",
        "        self.lock = threading.Lock()\n",
        "        self.yield_lock = threading.Lock()\n",
        "        self.init_count = 0\n",
        "        self.augment = augment\n",
        "        if self.augment:\n",
        "            # instantiate augmentations\n",
        "            self.seq = torchvision.transforms.Compose([\n",
        "                       torchvision.transforms.ColorJitter(brightness=0.3, contrast=0.3, saturation=0.3, hue=0),\n",
        "                       torchvision.transforms.RandomRotation(degrees=180),\n",
        "                       torchvision.transforms.RandomHorizontalFlip(p=0.5),\n",
        "                       torchvision.transforms.RandomVerticalFlip(p=0.5)\n",
        "                       ])\n",
        "            self.seq_2 = iaa.CoarseDropout(0.02, size_percent=0.5)\n",
        "        else:\n",
        "            self.seq = lambda images: images\n",
        "            # iaa.meta.Identity() somehow doesn't work in colab version of imgaug .__.\n",
        "\n",
        "\n",
        "    def __len__(self):\n",
        "      return self.total_len\n",
        "\n",
        "    def shuffle(self):\n",
        "        if self.return_y:\n",
        "            self.landmarks_frame = []\n",
        "            for i in range(9):\n",
        "                mass_len = min(5000,len(self.all_data[i])) # change 5000(first number) to any desired number of objects of each TCC\n",
        "                self.total_len += mass_len\n",
        "                self.landmarks_frame += list(np.random.choice(self.all_data[i], size=mass_len))\n",
        "        self.objects_id_generator = Threadsafe_iter(get_objects_i(len(self.landmarks_frame)))\n",
        "        self.landmarks_frame = shuffle(self.landmarks_frame)\n",
        "\n",
        "    def __iter__(self):\n",
        "        while True:\n",
        "            with self.lock:\n",
        "                if (self.init_count == 0):\n",
        "                    self.shuffle()\n",
        "                    self.imgs = []\n",
        "                    self.y_train = []\n",
        "                    self.init_count = 1\n",
        "            for obj_id in self.objects_id_generator:\n",
        "                #print(obj_id)\n",
        "                img_name = os.path.join(self.root_dir,self.landmarks_frame[obj_id]['mission'],'snapshots',\n",
        "                                        'snapshots-'+self.landmarks_frame[obj_id]['observations_dt'].strftime(\"%Y-%m-%d\"),\n",
        "                                        self.landmarks_frame[obj_id]['jpg_filename']) #check if correct path\n",
        "\n",
        "\n",
        "                img = Image.open(img_name)\n",
        "                #mask definition and application to image\n",
        "                insert_img = np.full((img.width,img.height,3),0,dtype=np.uint8)\n",
        "                mask_name = os.path.join(self.root_dir,self.landmarks_frame[obj_id]['mask_fname'])\n",
        "                mask = Image.open(mask_name)\n",
        "                mask = np.array(mask.resize((img.width,img.height)))\n",
        "                mask = mask>0\n",
        "                mask = Image.fromarray(np.uint8(mask*255))\n",
        "                image = Image.composite(img, Image.fromarray(insert_img), mask) #applying mask\n",
        "                mask.close()\n",
        "                img.close()\n",
        "\n",
        "\n",
        "                img_augmented = self.seq(image)\n",
        "                img_augmented = self.seq_2.augment_images([np.array(img_augmented)])\n",
        "                image = self.transform(np.array(img_augmented[0]))\n",
        "                del img_augmented\n",
        "                #print(sys.getsizeof(image))\n",
        "                #image = self.transform(image)\n",
        "\n",
        "                # Concurrent access by multiple threads to the lists below\n",
        "                if self.return_y:\n",
        "                    with self.yield_lock:\n",
        "                        if (len(self.imgs)) < self.batch_size:\n",
        "                            self.imgs.append(image)\n",
        "                            self.y_train.append(self.landmarks_frame[obj_id]['observed_TCC'])\n",
        "                        if len(self.imgs) % self.batch_size == 0:\n",
        "\n",
        "                            gc.collect()\n",
        "                            yield torch.stack(self.imgs,dim=0), torch.tensor(self.y_train)\n",
        "                            self.imgs = []\n",
        "                            self.y_train = []\n",
        "                else:\n",
        "                    with self.yield_lock:\n",
        "                        if (len(self.imgs)) < self.batch_size:\n",
        "                            self.imgs.append(image)\n",
        "                            self.y_train.append(self.landmarks_frame[obj_id]['jpg_filename'])\n",
        "                        if len(self.imgs) % self.batch_size == 0:\n",
        "                            #imgs_f32 = np.float32(self.imgs)\n",
        "                            yield torch.stack(self.imgs,dim=0), self.y_train\n",
        "                            self.imgs = []\n",
        "                            self.y_train = []\n",
        "            # At the end of an epoch we re-init data-structures\n",
        "            with self.lock:\n",
        "                self.landmarks_frame = shuffle(self.landmarks_frame)\n",
        "                self.init_count = 0"
      ],
      "execution_count": null,
      "outputs": []
    },
    {
      "cell_type": "code",
      "metadata": {
        "id": "ejuf0r9gxwii"
      },
      "source": [
        "class ToTensor(object):\n",
        "    \"\"\"Convert pillow images in sample to Tensors.\n",
        "     Update: Here we also transform images to appropriate format for loaded nn input\"\"\"\n",
        "    def __call__(self, sample):\n",
        "        image = sample\n",
        "        ###TODO: probably we should add to preprocess\n",
        "        #Read here: https://pytorch.org/hub/pytorch_vision_resnet/\n",
        "        preprocess = transforms.Compose([\n",
        "        transforms.ToTensor(),\n",
        "        #transforms.Resize(224),\n",
        "        transforms.Normalize(mean=[0.485, 0.456, 0.406], std=[0.229, 0.224, 0.225])\n",
        "        ])\n",
        "        return preprocess(image)\n"
      ],
      "execution_count": null,
      "outputs": []
    },
    {
      "cell_type": "markdown",
      "metadata": {
        "id": "YYyeOFrQOaEC"
      },
      "source": [
        ""
      ]
    },
    {
      "cell_type": "code",
      "metadata": {
        "id": "C39QkV03L9Qe"
      },
      "source": [
        "dataset = LandmarksDataset(pkl_file=images_base_dir+'index.pkl',\n",
        "                           root_dir=images_base_dir,\n",
        "                           transform=ToTensor(),\n",
        "                           batch_size=batch_size,augment=True)\n"
      ],
      "execution_count": null,
      "outputs": []
    },
    {
      "cell_type": "code",
      "metadata": {
        "colab": {
          "base_uri": "https://localhost:8080/"
        },
        "id": "iVLYmC0ryOh-",
        "outputId": "10d462c3-3443-4b11-a408-fbe814c359e4"
      },
      "source": [
        "STEPS_PER_EPOCH = len(dataset)//batch_size + 1\n",
        "STEPS_PER_EPOCH"
      ],
      "execution_count": null,
      "outputs": [
        {
          "output_type": "execute_result",
          "data": {
            "text/plain": [
              "1113"
            ]
          },
          "metadata": {
            "tags": []
          },
          "execution_count": 15
        }
      ]
    },
    {
      "cell_type": "markdown",
      "metadata": {
        "id": "-Vcsqzia_uI2"
      },
      "source": [
        "-----------------------------"
      ]
    },
    {
      "cell_type": "code",
      "metadata": {
        "colab": {
          "base_uri": "https://localhost:8080/"
        },
        "id": "Pdyv3y9Ce2ij",
        "outputId": "7d557854-c87f-43c2-8a16-60c52ef95809"
      },
      "source": [
        "device = torch.device(\"cuda:0\" if use_gpu and torch.cuda.is_available() else \"cpu\")\n",
        "device"
      ],
      "execution_count": null,
      "outputs": [
        {
          "output_type": "execute_result",
          "data": {
            "text/plain": [
              "device(type='cuda', index=0)"
            ]
          },
          "metadata": {
            "tags": []
          },
          "execution_count": 16
        }
      ]
    },
    {
      "cell_type": "markdown",
      "metadata": {
        "id": "jg9AB6ZH_Z5k"
      },
      "source": [
        "Теперь загрузим предобученную модель. Список предварительно обученных моделей, доступных для использования в рамках `torchvision.models` можно посмотреть на странице документации: https://pytorch.org/vision/stable/models.html\n",
        "\n",
        "Здесь мы загрузим AlexNet:"
      ]
    },
    {
      "cell_type": "code",
      "metadata": {
        "id": "92qP2NIs_Ynl",
        "colab": {
          "base_uri": "https://localhost:8080/",
          "height": 83,
          "referenced_widgets": [
            "1f45a0f29fe9464e8be180e1d47890b6",
            "73e6676a51c2476b8e5b6c11cf79aa8d",
            "eeb30c0f2b1743298a03f0d4c712469a",
            "8428b886f08a4057a80e1d5610b4340d",
            "7409b975dc054b97b1e709758bc58f70",
            "1791e0feeb1243d68ddf6bc4fdd0d968",
            "413577b2ad2d4bfeb750a9a74872fc2c",
            "61f26ae1425d4034b393b3ad932e772f"
          ]
        },
        "outputId": "c2e149a5-8970-4f84-be3e-2321d443b6cb"
      },
      "source": [
        "resnet50 = models.resnet50(pretrained=True)"
      ],
      "execution_count": null,
      "outputs": [
        {
          "output_type": "stream",
          "text": [
            "Downloading: \"https://download.pytorch.org/models/resnet50-19c8e357.pth\" to /root/.cache/torch/hub/checkpoints/resnet50-19c8e357.pth\n"
          ],
          "name": "stderr"
        },
        {
          "output_type": "display_data",
          "data": {
            "application/vnd.jupyter.widget-view+json": {
              "model_id": "1f45a0f29fe9464e8be180e1d47890b6",
              "version_minor": 0,
              "version_major": 2
            },
            "text/plain": [
              "HBox(children=(FloatProgress(value=0.0, max=102502400.0), HTML(value='')))"
            ]
          },
          "metadata": {
            "tags": []
          }
        },
        {
          "output_type": "stream",
          "text": [
            "\n"
          ],
          "name": "stdout"
        }
      ]
    },
    {
      "cell_type": "markdown",
      "metadata": {
        "id": "LHkJbsJw_7pN"
      },
      "source": [
        "Заметим, что AlexNet состоит из трех частей: сверточной (`features`), операции субдискретизации (`avgpool`) и полносвязного классификатора (`classifier`). Суть подхода Transfer Learning в том, чтобы заменить часть нейросети на новую и обучать её. Например, можно заменить полносвязную часть `classifier` на совершенно новую подсеть, которая, возможно, будет выполнять совершенно новую задачу - например, регрессию. При этом она будет использовать признаки, извлекаемые сверточной подсетью. При этом обычно свёрточную подсеть \"замораживают\", то есть, запрещают вычислять градиенты функции потерь по весам этой подсети. С нулевыми градиентами эти веса не меняются в процессе градиентной оптимизации вне зависимости от типа оптимизатора (лишь бы он был градиентный)."
      ]
    },
    {
      "cell_type": "code",
      "metadata": {
        "id": "vRjF532uyTCF"
      },
      "source": [
        "for param in resnet50.parameters():\n",
        "    param.requires_grad = True\n",
        "\n",
        "\n",
        "resnet50.fc = torch.nn.Identity()\n",
        "\n",
        "model = torch.nn.Sequential(resnet50,\n",
        "                            nn.Linear(in_features=2048, out_features=9, bias=True)\n",
        ")"
      ],
      "execution_count": null,
      "outputs": []
    },
    {
      "cell_type": "markdown",
      "metadata": {
        "id": "K8S4bIH6BlRa"
      },
      "source": [
        "Теперь на основе полученного модуля `alexnet`/`resnet` создадим новую нейросеть, в которой он будет всего лишь одним из преобразований."
      ]
    },
    {
      "cell_type": "code",
      "metadata": {
        "colab": {
          "base_uri": "https://localhost:8080/"
        },
        "id": "m-ty8xJUBcsR",
        "outputId": "01e786f6-ceea-4526-d3fb-d8f019d30201"
      },
      "source": [
        "# Отправляем модель на устройство, на котором будут производиться вычисления\n",
        "_ = model.to(device)\n",
        "\n",
        "# Проверим, где располагается модель. Как минимум матрицы параметров.\n",
        "for param in model.parameters():\n",
        "    print(param.device)\n",
        "    break"
      ],
      "execution_count": null,
      "outputs": [
        {
          "output_type": "stream",
          "text": [
            "cuda:0\n"
          ],
          "name": "stdout"
        }
      ]
    },
    {
      "cell_type": "code",
      "metadata": {
        "id": "Rkl_CbT6L3WQ"
      },
      "source": [
        "def all_in_one_batches_feeder(tokill, batches_queue, dataset_generator):\n",
        "    \"\"\"\n",
        "    Threaded worker for pre-processing input data.\n",
        "    tokill (thread_killer): an object that indicates whether a thread should be terminated\n",
        "    dataset_generator (Dataset): training/validation data generator\n",
        "    batches_queue (Queue): a limited size thread-safe Queue instance for train/validation data batches\n",
        "    \"\"\"\n",
        "    while tokill() == False:\n",
        "        for sample_batch in dataset_generator:\n",
        "            #print(sample_batch,type(sample_batch))\n",
        "            X = sample_batch[0].to(device)\n",
        "            y = sample_batch[1].to(device)\n",
        "            batches_queue.put((X,y), block=True)\n",
        "            if tokill() == True:\n",
        "                return"
      ],
      "execution_count": null,
      "outputs": []
    },
    {
      "cell_type": "markdown",
      "metadata": {
        "id": "32GzjFx0R5iG"
      },
      "source": [
        "-----------------"
      ]
    },
    {
      "cell_type": "code",
      "metadata": {
        "id": "4GFzw_CJnWzD"
      },
      "source": [
        "def train_single_epoch(model: torch.nn.Module,\n",
        "                       optimizer: torch.optim.Optimizer,\n",
        "                       loss_function: torch.nn.Module,\n",
        "                       lr_scheduler: Any):\n",
        "    model.train()\n",
        "\n",
        "    loss_counter=0\n",
        "    correct_counter=0\n",
        "\n",
        "    # Initialize the loss function\n",
        "    loss_fn = loss_function\n",
        "\n",
        "    #for image_batch in tqdm(range(STEPS_PER_EPOCH), total=STEPS_PER_EPOCH):\n",
        "    for image_batch in range(STEPS_PER_EPOCH):\n",
        "        x, y = train_batches_queue.get(block=True) #train_cuda_batches_queue.get(block=True)\n",
        "\n",
        "        # Here one usually implements training steps\n",
        "        # apply model\n",
        "        pred = model(x)\n",
        "        loss = loss_fn(pred, y)\n",
        "\n",
        "        # Backpropagation  \n",
        "        optimizer.zero_grad()\n",
        "        loss.backward()\n",
        "        #one step of the optmizer (using the gradients from backpropagation)\n",
        "        optimizer.step()\n",
        "\n",
        "        # num_batches += 1\n",
        "        loss = loss.item()\n",
        "        correct = (pred.argmax(1) == y).type(torch.float).sum().item()\n",
        "        correct /= len(x)\n",
        "        correct_counter+=correct\n",
        "        loss_counter+=loss\n",
        "\n",
        "        frequency_of_report = 200\n",
        "        if image_batch % frequency_of_report == 0:\n",
        "          correct = correct_counter/frequency_of_report\n",
        "          loss = loss_counter/frequency_of_report\n",
        "          print(f\"{image_batch}/{STEPS_PER_EPOCH} Accuracy: {(100*correct):>0.1f}%, loss: {loss:>7f} \\n\", flush=True)\n",
        "          correct_counter=0\n",
        "          loss_counter=0\n",
        "\n",
        "\n",
        "        if image_batch % frequency_of_report == 0:\n",
        "          lr_scheduler.step()"
      ],
      "execution_count": null,
      "outputs": []
    },
    {
      "cell_type": "code",
      "metadata": {
        "id": "b3_8XhFXidSk"
      },
      "source": [
        "def validate_single_epoch(model: torch.nn.Module,\n",
        "                      loss_function: torch.nn.Module):\n",
        "    model.eval()\n",
        "    loss_fn = loss_function\n",
        "    test_loss, correct = 0, 0\n",
        "    with torch.no_grad():\n",
        "        for image_batch in range(STEPS_PER_EPOCH):\n",
        "            x, y = validate_batches_queue.get(block=True)\n",
        "            pred = model(x)\n",
        "            test_loss += loss_fn(pred, y).item()\n",
        "            correct += (pred.argmax(1) == y).type(torch.float).sum().item()\n",
        "            correct /= len(x)\n",
        "    test_loss /= STEPS_PER_EPOCH\n",
        "    correct /= STEPS_PER_EPOCH\n",
        "    print(f\"Test Error: \\n Accuracy: {(100*correct):>0.1f}%, Avg loss: {test_loss:>8f} \\n\", flush = True)"
      ],
      "execution_count": null,
      "outputs": []
    },
    {
      "cell_type": "code",
      "metadata": {
        "colab": {
          "base_uri": "https://localhost:8080/"
        },
        "id": "8R2EDP-xIv4Q",
        "outputId": "fb3cc451-27d5-406b-cfeb-473966f77445"
      },
      "source": [
        "ls drive/MyDrive/"
      ],
      "execution_count": null,
      "outputs": [
        {
          "output_type": "stream",
          "text": [
            "\u001b[0m\u001b[01;34m'Colab Notebooks'\u001b[0m/   result.txt                    справка_о_составе_семьи.pdf\n",
            " \u001b[01;34mfor_collab\u001b[0m/         всё_вместе.pdf               'Справка Паша.PDF'\n",
            " \u001b[01;34mMPI\u001b[0m/                свидетельство_о_разводе.pdf   Справки_о_доходах.PDF\n"
          ],
          "name": "stdout"
        }
      ]
    },
    {
      "cell_type": "code",
      "metadata": {
        "colab": {
          "base_uri": "https://localhost:8080/"
        },
        "id": "tL0UXLC-B4rm",
        "outputId": "fa6e975d-ccb4-4da7-b78e-a7cf354708b8"
      },
      "source": [
        "model.train()\n",
        "\n",
        "# Here we instantiate queues and mutexes, and launch the threads that will preprocess the data and send it into GPU\n",
        "#batches_queue_length = min(STEPS_PER_EPOCH, 40)\n",
        "\n",
        "\n",
        "#train_cuda_batches_queue = Queue(maxsize=batches_queue_length)\n",
        "train_thread_killer = thread_killer()\n",
        "train_thread_killer.set_tokill(False)\n",
        "preprocess_workers = 10\n",
        "batches_queue_length = int(preprocess_workers)\n",
        "train_batches_queue = Queue(maxsize=batches_queue_length)\n",
        "\n",
        "for _ in range(preprocess_workers):\n",
        "    thr = Thread(target=all_in_one_batches_feeder, args=(train_thread_killer, train_batches_queue, dataset))\n",
        "    thr.start()\n",
        "\n",
        "# Everything is ready for the training\n",
        "\n",
        "print('Training ...', flush=True)\n",
        "\n",
        "loss_fn = torch.nn.CrossEntropyLoss()\n",
        "optimizer = torch.optim.Adam(model.parameters(), lr=1e-4)\n",
        "#lr_scheduler = torch.optim.lr_scheduler.ReduceLROnPlateau(optimizer)\n",
        "lr_scheduler = torch.optim.lr_scheduler.CosineAnnealingLR(optimizer, T_max = 10)\n",
        "\n",
        "for epoch in range(num_epochs):\n",
        "    num_batches = 0\n",
        "    correct = 0\n",
        "    train_single_epoch(model, optimizer, loss_fn, lr_scheduler)\n",
        "\n",
        "    if epoch==1:\n",
        "        torch.save(model.state_dict(), \"drive/MyDrive/model_1.pth\")\n",
        "\n",
        "    if epoch==2:\n",
        "        torch.save(model.state_dict(), \"drive/MyDrive/model_2.pth\")\n",
        "\n",
        "    if epoch==3:\n",
        "        torch.save(model.state_dict(), \"drive/MyDrive/model_3.pth\")\n",
        "\n",
        "torch.save(model.state_dict(), \"drive/MyDrive/model.pth\")\n",
        "\n",
        "\n",
        "train_thread_killer.set_tokill(True)\n",
        "#train_cuda_transfers_thread_killer.set_tokill(True)\n",
        "for _ in range(batches_queue_length+preprocess_workers + 5):\n",
        "    try:\n",
        "        # Enforcing thread shutdown\n",
        "        train_batches_queue.get(block=True,timeout=0.5)\n",
        "\n",
        "    except:\n",
        "        pass\n",
        "del train_batches_queue\n",
        "gc.collect()\n",
        "torch.cuda.empty_cache()"
      ],
      "execution_count": null,
      "outputs": [
        {
          "output_type": "stream",
          "text": [
            "Training ...\n",
            "0/1113 Accuracy: 0.1%, loss: 0.010987 \n",
            "\n",
            "200/1113 Accuracy: 42.3%, loss: 1.431494 \n",
            "\n",
            "400/1113 Accuracy: 51.9%, loss: 1.191666 \n",
            "\n",
            "600/1113 Accuracy: 57.8%, loss: 1.080764 \n",
            "\n",
            "800/1113 Accuracy: 63.0%, loss: 0.957746 \n",
            "\n",
            "1000/1113 Accuracy: 68.3%, loss: 0.851439 \n",
            "\n",
            "0/1113 Accuracy: 0.4%, loss: 0.003994 \n",
            "\n",
            "200/1113 Accuracy: 74.9%, loss: 0.700674 \n",
            "\n",
            "400/1113 Accuracy: 78.4%, loss: 0.612264 \n",
            "\n",
            "600/1113 Accuracy: 79.7%, loss: 0.578540 \n",
            "\n",
            "800/1113 Accuracy: 80.0%, loss: 0.565410 \n",
            "\n",
            "1000/1113 Accuracy: 80.9%, loss: 0.549743 \n",
            "\n",
            "0/1113 Accuracy: 0.4%, loss: 0.002738 \n",
            "\n",
            "200/1113 Accuracy: 80.0%, loss: 0.563851 \n",
            "\n",
            "400/1113 Accuracy: 80.4%, loss: 0.541898 \n",
            "\n",
            "600/1113 Accuracy: 79.7%, loss: 0.557168 \n",
            "\n",
            "800/1113 Accuracy: 80.0%, loss: 0.544492 \n",
            "\n",
            "1000/1113 Accuracy: 79.1%, loss: 0.581255 \n",
            "\n"
          ],
          "name": "stdout"
        }
      ]
    },
    {
      "cell_type": "code",
      "metadata": {
        "colab": {
          "base_uri": "https://localhost:8080/"
        },
        "id": "AL9YmfvJbgjX",
        "outputId": "61b64a50-dad3-4ca5-ca04-013454614942"
      },
      "source": [
        "ls drive/MyDrive"
      ],
      "execution_count": null,
      "outputs": [
        {
          "output_type": "stream",
          "text": [
            "\u001b[0m\u001b[01;34m'Colab Notebooks'\u001b[0m/   model.pth        свидетельство_о_разводе.pdf\n",
            " \u001b[01;34mfor_collab\u001b[0m/         \u001b[01;34mMPI\u001b[0m/             справка_о_составе_семьи.pdf\n",
            " model_1.pth         result.txt      'Справка Паша.PDF'\n",
            " model_2.pth         всё_вместе.pdf   Справки_о_доходах.PDF\n"
          ],
          "name": "stdout"
        }
      ]
    },
    {
      "cell_type": "code",
      "metadata": {
        "id": "pOhlsJB_KoZF"
      },
      "source": [
        "def put_obj_in_queue(tokill, batches_queue, dataset_generator):\n",
        "    while tokill() == False:\n",
        "        for sample_batch in dataset_generator:\n",
        "            batches_queue.put((sample_batch[0].to(device),sample_batch[1]), block=True)\n",
        "            if tokill() == True:\n",
        "                return\n",
        "\n",
        "def answer(test_dir, model, dataset):\n",
        "    steps = len(dataset)//test_batch_size + 1\n",
        "    model.eval()\n",
        "    queue_length = 40\n",
        "    train_queue = Queue(maxsize=queue_length)\n",
        "    train_thread_killer = thread_killer()\n",
        "    train_thread_killer.set_tokill(False)\n",
        "    preprocess_workers = 60\n",
        "\n",
        "    for _ in range(preprocess_workers):\n",
        "        thr = Thread(target=put_obj_in_queue, args=(train_thread_killer, train_queue, dataset))\n",
        "        thr.start()\n",
        "    dict_for_return = {'jpg_filename':[], 'TCC':[]}\n",
        "    with torch.no_grad():\n",
        "        for image_batch in tqdm(range(steps), total=steps):\n",
        "            x,name = train_queue.get(block=True)\n",
        "            y_pred = model(x)\n",
        "            _, predicted = torch.max(y_pred.data, 1)\n",
        "            dict_for_return['jpg_filename'] += name\n",
        "            dict_for_return['TCC'] += predicted.tolist()\n",
        "            #print(i)\n",
        "            #print(predicted.tolist())\n",
        "\n",
        "    train_thread_killer.set_tokill(True)\n",
        "    for _ in range(queue_length+preprocess_workers+1):\n",
        "        try:\n",
        "            # Enforcing thread shutdown\n",
        "            #train_batches_queue.get(block=True, timeout=0.5)\n",
        "            x,name = train_queue.get(block=True,timeout=0.5)\n",
        "            y_pred = model(x)\n",
        "            _, predicted = torch.max(y_pred.data, 1)\n",
        "            dict_for_return['jpg_filename'] += name\n",
        "            dict_for_return['TCC'] += predicted.tolist()\n",
        "        except Empty:\n",
        "            pass\n",
        "    gc.collect() #delete all trash\n",
        "    return dict_for_return\n",
        "            \n",
        "    "
      ],
      "execution_count": null,
      "outputs": []
    },
    {
      "cell_type": "code",
      "metadata": {
        "id": "nAjdKDDvnNC5"
      },
      "source": [
        "model.load_state_dict(torch.load(\"drive/MyDrive/model_tmp.pth\"))\n",
        "test_batch_size=10\n",
        "#test_dir = '/content/drive/MyDrive/for_collab/kaggle_clouds/test/'\n",
        "test_dir = '/content/drive/.shortcut-targets-by-id/1Fnx7AJx-90ncp1diFHdcRHYsSofEMby5/test/'\n",
        "dataset_val = LandmarksDataset(pkl_file=test_dir+'index.pkl',\n",
        "                           root_dir=test_dir,                \n",
        "                           transform=ToTensor(),\n",
        "                           batch_size=test_batch_size,augment=True, mode='test')"
      ],
      "execution_count": null,
      "outputs": []
    },
    {
      "cell_type": "code",
      "metadata": {
        "id": "t2BwPL4WoBYG",
        "colab": {
          "base_uri": "https://localhost:8080/",
          "height": 1000
        },
        "outputId": "161c1fa4-0009-47df-c1e4-c3033fe6533c"
      },
      "source": [
        "ans = answer(test_dir, model, dataset_val)"
      ],
      "execution_count": null,
      "outputs": [
        {
          "output_type": "stream",
          "text": [
            "\n",
            "  0%|          | 0/2701 [00:00<?, ?it/s]\n",
            "Exception in thread Thread-475:\n",
            "Traceback (most recent call last):\n",
            "  File \"/usr/lib/python3.7/threading.py\", line 926, in _bootstrap_inner\n",
            "    self.run()\n",
            "  File \"/usr/lib/python3.7/threading.py\", line 870, in run\n",
            "    self._target(*self._args, **self._kwargs)\n",
            "  File \"<ipython-input-50-7e4844aa750b>\", line 4, in put_obj_in_queue\n",
            "    batches_queue.put((sample_batch[0].to(device),sample_batch[1]), block=True)\n",
            "RuntimeError: CUDA out of memory. Tried to allocate 30.00 MiB (GPU 0; 14.76 GiB total capacity; 12.98 GiB already allocated; 11.75 MiB free; 13.71 GiB reserved in total by PyTorch)\n",
            "\n"
          ],
          "name": "stderr"
        },
        {
          "output_type": "error",
          "ename": "RuntimeError",
          "evalue": "ignored",
          "traceback": [
            "\u001b[0;31m---------------------------------------------------------------------------\u001b[0m",
            "\u001b[0;31mRuntimeError\u001b[0m                              Traceback (most recent call last)",
            "\u001b[0;32m<ipython-input-56-6f48a43c115e>\u001b[0m in \u001b[0;36m<module>\u001b[0;34m()\u001b[0m\n\u001b[0;32m----> 1\u001b[0;31m \u001b[0mans\u001b[0m \u001b[0;34m=\u001b[0m \u001b[0manswer\u001b[0m\u001b[0;34m(\u001b[0m\u001b[0mtest_dir\u001b[0m\u001b[0;34m,\u001b[0m \u001b[0mmodel\u001b[0m\u001b[0;34m,\u001b[0m \u001b[0mdataset_val\u001b[0m\u001b[0;34m)\u001b[0m\u001b[0;34m\u001b[0m\u001b[0;34m\u001b[0m\u001b[0m\n\u001b[0m",
            "\u001b[0;32m<ipython-input-50-7e4844aa750b>\u001b[0m in \u001b[0;36manswer\u001b[0;34m(test_dir, model, dataset)\u001b[0m\n\u001b[1;32m     22\u001b[0m         \u001b[0;32mfor\u001b[0m \u001b[0mimage_batch\u001b[0m \u001b[0;32min\u001b[0m \u001b[0mtqdm\u001b[0m\u001b[0;34m(\u001b[0m\u001b[0mrange\u001b[0m\u001b[0;34m(\u001b[0m\u001b[0msteps\u001b[0m\u001b[0;34m)\u001b[0m\u001b[0;34m,\u001b[0m \u001b[0mtotal\u001b[0m\u001b[0;34m=\u001b[0m\u001b[0msteps\u001b[0m\u001b[0;34m)\u001b[0m\u001b[0;34m:\u001b[0m\u001b[0;34m\u001b[0m\u001b[0;34m\u001b[0m\u001b[0m\n\u001b[1;32m     23\u001b[0m             \u001b[0mx\u001b[0m\u001b[0;34m,\u001b[0m\u001b[0mname\u001b[0m \u001b[0;34m=\u001b[0m \u001b[0mtrain_queue\u001b[0m\u001b[0;34m.\u001b[0m\u001b[0mget\u001b[0m\u001b[0;34m(\u001b[0m\u001b[0mblock\u001b[0m\u001b[0;34m=\u001b[0m\u001b[0;32mTrue\u001b[0m\u001b[0;34m)\u001b[0m\u001b[0;34m\u001b[0m\u001b[0;34m\u001b[0m\u001b[0m\n\u001b[0;32m---> 24\u001b[0;31m             \u001b[0my_pred\u001b[0m \u001b[0;34m=\u001b[0m \u001b[0mmodel\u001b[0m\u001b[0;34m(\u001b[0m\u001b[0mx\u001b[0m\u001b[0;34m)\u001b[0m\u001b[0;34m\u001b[0m\u001b[0;34m\u001b[0m\u001b[0m\n\u001b[0m\u001b[1;32m     25\u001b[0m             \u001b[0m_\u001b[0m\u001b[0;34m,\u001b[0m \u001b[0mpredicted\u001b[0m \u001b[0;34m=\u001b[0m \u001b[0mtorch\u001b[0m\u001b[0;34m.\u001b[0m\u001b[0mmax\u001b[0m\u001b[0;34m(\u001b[0m\u001b[0my_pred\u001b[0m\u001b[0;34m.\u001b[0m\u001b[0mdata\u001b[0m\u001b[0;34m,\u001b[0m \u001b[0;36m1\u001b[0m\u001b[0;34m)\u001b[0m\u001b[0;34m\u001b[0m\u001b[0;34m\u001b[0m\u001b[0m\n\u001b[1;32m     26\u001b[0m             \u001b[0mdict_for_return\u001b[0m\u001b[0;34m[\u001b[0m\u001b[0;34m'jpg_filename'\u001b[0m\u001b[0;34m]\u001b[0m \u001b[0;34m+=\u001b[0m \u001b[0mname\u001b[0m\u001b[0;34m\u001b[0m\u001b[0;34m\u001b[0m\u001b[0m\n",
            "\u001b[0;32m/usr/local/lib/python3.7/dist-packages/torch/nn/modules/module.py\u001b[0m in \u001b[0;36m_call_impl\u001b[0;34m(self, *input, **kwargs)\u001b[0m\n\u001b[1;32m    887\u001b[0m             \u001b[0mresult\u001b[0m \u001b[0;34m=\u001b[0m \u001b[0mself\u001b[0m\u001b[0;34m.\u001b[0m\u001b[0m_slow_forward\u001b[0m\u001b[0;34m(\u001b[0m\u001b[0;34m*\u001b[0m\u001b[0minput\u001b[0m\u001b[0;34m,\u001b[0m \u001b[0;34m**\u001b[0m\u001b[0mkwargs\u001b[0m\u001b[0;34m)\u001b[0m\u001b[0;34m\u001b[0m\u001b[0;34m\u001b[0m\u001b[0m\n\u001b[1;32m    888\u001b[0m         \u001b[0;32melse\u001b[0m\u001b[0;34m:\u001b[0m\u001b[0;34m\u001b[0m\u001b[0;34m\u001b[0m\u001b[0m\n\u001b[0;32m--> 889\u001b[0;31m             \u001b[0mresult\u001b[0m \u001b[0;34m=\u001b[0m \u001b[0mself\u001b[0m\u001b[0;34m.\u001b[0m\u001b[0mforward\u001b[0m\u001b[0;34m(\u001b[0m\u001b[0;34m*\u001b[0m\u001b[0minput\u001b[0m\u001b[0;34m,\u001b[0m \u001b[0;34m**\u001b[0m\u001b[0mkwargs\u001b[0m\u001b[0;34m)\u001b[0m\u001b[0;34m\u001b[0m\u001b[0;34m\u001b[0m\u001b[0m\n\u001b[0m\u001b[1;32m    890\u001b[0m         for hook in itertools.chain(\n\u001b[1;32m    891\u001b[0m                 \u001b[0m_global_forward_hooks\u001b[0m\u001b[0;34m.\u001b[0m\u001b[0mvalues\u001b[0m\u001b[0;34m(\u001b[0m\u001b[0;34m)\u001b[0m\u001b[0;34m,\u001b[0m\u001b[0;34m\u001b[0m\u001b[0;34m\u001b[0m\u001b[0m\n",
            "\u001b[0;32m/usr/local/lib/python3.7/dist-packages/torch/nn/modules/container.py\u001b[0m in \u001b[0;36mforward\u001b[0;34m(self, input)\u001b[0m\n\u001b[1;32m    117\u001b[0m     \u001b[0;32mdef\u001b[0m \u001b[0mforward\u001b[0m\u001b[0;34m(\u001b[0m\u001b[0mself\u001b[0m\u001b[0;34m,\u001b[0m \u001b[0minput\u001b[0m\u001b[0;34m)\u001b[0m\u001b[0;34m:\u001b[0m\u001b[0;34m\u001b[0m\u001b[0;34m\u001b[0m\u001b[0m\n\u001b[1;32m    118\u001b[0m         \u001b[0;32mfor\u001b[0m \u001b[0mmodule\u001b[0m \u001b[0;32min\u001b[0m \u001b[0mself\u001b[0m\u001b[0;34m:\u001b[0m\u001b[0;34m\u001b[0m\u001b[0;34m\u001b[0m\u001b[0m\n\u001b[0;32m--> 119\u001b[0;31m             \u001b[0minput\u001b[0m \u001b[0;34m=\u001b[0m \u001b[0mmodule\u001b[0m\u001b[0;34m(\u001b[0m\u001b[0minput\u001b[0m\u001b[0;34m)\u001b[0m\u001b[0;34m\u001b[0m\u001b[0;34m\u001b[0m\u001b[0m\n\u001b[0m\u001b[1;32m    120\u001b[0m         \u001b[0;32mreturn\u001b[0m \u001b[0minput\u001b[0m\u001b[0;34m\u001b[0m\u001b[0;34m\u001b[0m\u001b[0m\n\u001b[1;32m    121\u001b[0m \u001b[0;34m\u001b[0m\u001b[0m\n",
            "\u001b[0;32m/usr/local/lib/python3.7/dist-packages/torch/nn/modules/module.py\u001b[0m in \u001b[0;36m_call_impl\u001b[0;34m(self, *input, **kwargs)\u001b[0m\n\u001b[1;32m    887\u001b[0m             \u001b[0mresult\u001b[0m \u001b[0;34m=\u001b[0m \u001b[0mself\u001b[0m\u001b[0;34m.\u001b[0m\u001b[0m_slow_forward\u001b[0m\u001b[0;34m(\u001b[0m\u001b[0;34m*\u001b[0m\u001b[0minput\u001b[0m\u001b[0;34m,\u001b[0m \u001b[0;34m**\u001b[0m\u001b[0mkwargs\u001b[0m\u001b[0;34m)\u001b[0m\u001b[0;34m\u001b[0m\u001b[0;34m\u001b[0m\u001b[0m\n\u001b[1;32m    888\u001b[0m         \u001b[0;32melse\u001b[0m\u001b[0;34m:\u001b[0m\u001b[0;34m\u001b[0m\u001b[0;34m\u001b[0m\u001b[0m\n\u001b[0;32m--> 889\u001b[0;31m             \u001b[0mresult\u001b[0m \u001b[0;34m=\u001b[0m \u001b[0mself\u001b[0m\u001b[0;34m.\u001b[0m\u001b[0mforward\u001b[0m\u001b[0;34m(\u001b[0m\u001b[0;34m*\u001b[0m\u001b[0minput\u001b[0m\u001b[0;34m,\u001b[0m \u001b[0;34m**\u001b[0m\u001b[0mkwargs\u001b[0m\u001b[0;34m)\u001b[0m\u001b[0;34m\u001b[0m\u001b[0;34m\u001b[0m\u001b[0m\n\u001b[0m\u001b[1;32m    890\u001b[0m         for hook in itertools.chain(\n\u001b[1;32m    891\u001b[0m                 \u001b[0m_global_forward_hooks\u001b[0m\u001b[0;34m.\u001b[0m\u001b[0mvalues\u001b[0m\u001b[0;34m(\u001b[0m\u001b[0;34m)\u001b[0m\u001b[0;34m,\u001b[0m\u001b[0;34m\u001b[0m\u001b[0;34m\u001b[0m\u001b[0m\n",
            "\u001b[0;32m/usr/local/lib/python3.7/dist-packages/torchvision/models/resnet.py\u001b[0m in \u001b[0;36mforward\u001b[0;34m(self, x)\u001b[0m\n\u001b[1;32m    247\u001b[0m \u001b[0;34m\u001b[0m\u001b[0m\n\u001b[1;32m    248\u001b[0m     \u001b[0;32mdef\u001b[0m \u001b[0mforward\u001b[0m\u001b[0;34m(\u001b[0m\u001b[0mself\u001b[0m\u001b[0;34m,\u001b[0m \u001b[0mx\u001b[0m\u001b[0;34m:\u001b[0m \u001b[0mTensor\u001b[0m\u001b[0;34m)\u001b[0m \u001b[0;34m->\u001b[0m \u001b[0mTensor\u001b[0m\u001b[0;34m:\u001b[0m\u001b[0;34m\u001b[0m\u001b[0;34m\u001b[0m\u001b[0m\n\u001b[0;32m--> 249\u001b[0;31m         \u001b[0;32mreturn\u001b[0m \u001b[0mself\u001b[0m\u001b[0;34m.\u001b[0m\u001b[0m_forward_impl\u001b[0m\u001b[0;34m(\u001b[0m\u001b[0mx\u001b[0m\u001b[0;34m)\u001b[0m\u001b[0;34m\u001b[0m\u001b[0;34m\u001b[0m\u001b[0m\n\u001b[0m\u001b[1;32m    250\u001b[0m \u001b[0;34m\u001b[0m\u001b[0m\n\u001b[1;32m    251\u001b[0m \u001b[0;34m\u001b[0m\u001b[0m\n",
            "\u001b[0;32m/usr/local/lib/python3.7/dist-packages/torchvision/models/resnet.py\u001b[0m in \u001b[0;36m_forward_impl\u001b[0;34m(self, x)\u001b[0m\n\u001b[1;32m    230\u001b[0m     \u001b[0;32mdef\u001b[0m \u001b[0m_forward_impl\u001b[0m\u001b[0;34m(\u001b[0m\u001b[0mself\u001b[0m\u001b[0;34m,\u001b[0m \u001b[0mx\u001b[0m\u001b[0;34m:\u001b[0m \u001b[0mTensor\u001b[0m\u001b[0;34m)\u001b[0m \u001b[0;34m->\u001b[0m \u001b[0mTensor\u001b[0m\u001b[0;34m:\u001b[0m\u001b[0;34m\u001b[0m\u001b[0;34m\u001b[0m\u001b[0m\n\u001b[1;32m    231\u001b[0m         \u001b[0;31m# See note [TorchScript super()]\u001b[0m\u001b[0;34m\u001b[0m\u001b[0;34m\u001b[0m\u001b[0;34m\u001b[0m\u001b[0m\n\u001b[0;32m--> 232\u001b[0;31m         \u001b[0mx\u001b[0m \u001b[0;34m=\u001b[0m \u001b[0mself\u001b[0m\u001b[0;34m.\u001b[0m\u001b[0mconv1\u001b[0m\u001b[0;34m(\u001b[0m\u001b[0mx\u001b[0m\u001b[0;34m)\u001b[0m\u001b[0;34m\u001b[0m\u001b[0;34m\u001b[0m\u001b[0m\n\u001b[0m\u001b[1;32m    233\u001b[0m         \u001b[0mx\u001b[0m \u001b[0;34m=\u001b[0m \u001b[0mself\u001b[0m\u001b[0;34m.\u001b[0m\u001b[0mbn1\u001b[0m\u001b[0;34m(\u001b[0m\u001b[0mx\u001b[0m\u001b[0;34m)\u001b[0m\u001b[0;34m\u001b[0m\u001b[0;34m\u001b[0m\u001b[0m\n\u001b[1;32m    234\u001b[0m         \u001b[0mx\u001b[0m \u001b[0;34m=\u001b[0m \u001b[0mself\u001b[0m\u001b[0;34m.\u001b[0m\u001b[0mrelu\u001b[0m\u001b[0;34m(\u001b[0m\u001b[0mx\u001b[0m\u001b[0;34m)\u001b[0m\u001b[0;34m\u001b[0m\u001b[0;34m\u001b[0m\u001b[0m\n",
            "\u001b[0;32m/usr/local/lib/python3.7/dist-packages/torch/nn/modules/module.py\u001b[0m in \u001b[0;36m_call_impl\u001b[0;34m(self, *input, **kwargs)\u001b[0m\n\u001b[1;32m    887\u001b[0m             \u001b[0mresult\u001b[0m \u001b[0;34m=\u001b[0m \u001b[0mself\u001b[0m\u001b[0;34m.\u001b[0m\u001b[0m_slow_forward\u001b[0m\u001b[0;34m(\u001b[0m\u001b[0;34m*\u001b[0m\u001b[0minput\u001b[0m\u001b[0;34m,\u001b[0m \u001b[0;34m**\u001b[0m\u001b[0mkwargs\u001b[0m\u001b[0;34m)\u001b[0m\u001b[0;34m\u001b[0m\u001b[0;34m\u001b[0m\u001b[0m\n\u001b[1;32m    888\u001b[0m         \u001b[0;32melse\u001b[0m\u001b[0;34m:\u001b[0m\u001b[0;34m\u001b[0m\u001b[0;34m\u001b[0m\u001b[0m\n\u001b[0;32m--> 889\u001b[0;31m             \u001b[0mresult\u001b[0m \u001b[0;34m=\u001b[0m \u001b[0mself\u001b[0m\u001b[0;34m.\u001b[0m\u001b[0mforward\u001b[0m\u001b[0;34m(\u001b[0m\u001b[0;34m*\u001b[0m\u001b[0minput\u001b[0m\u001b[0;34m,\u001b[0m \u001b[0;34m**\u001b[0m\u001b[0mkwargs\u001b[0m\u001b[0;34m)\u001b[0m\u001b[0;34m\u001b[0m\u001b[0;34m\u001b[0m\u001b[0m\n\u001b[0m\u001b[1;32m    890\u001b[0m         for hook in itertools.chain(\n\u001b[1;32m    891\u001b[0m                 \u001b[0m_global_forward_hooks\u001b[0m\u001b[0;34m.\u001b[0m\u001b[0mvalues\u001b[0m\u001b[0;34m(\u001b[0m\u001b[0;34m)\u001b[0m\u001b[0;34m,\u001b[0m\u001b[0;34m\u001b[0m\u001b[0;34m\u001b[0m\u001b[0m\n",
            "\u001b[0;32m/usr/local/lib/python3.7/dist-packages/torch/nn/modules/conv.py\u001b[0m in \u001b[0;36mforward\u001b[0;34m(self, input)\u001b[0m\n\u001b[1;32m    397\u001b[0m \u001b[0;34m\u001b[0m\u001b[0m\n\u001b[1;32m    398\u001b[0m     \u001b[0;32mdef\u001b[0m \u001b[0mforward\u001b[0m\u001b[0;34m(\u001b[0m\u001b[0mself\u001b[0m\u001b[0;34m,\u001b[0m \u001b[0minput\u001b[0m\u001b[0;34m:\u001b[0m \u001b[0mTensor\u001b[0m\u001b[0;34m)\u001b[0m \u001b[0;34m->\u001b[0m \u001b[0mTensor\u001b[0m\u001b[0;34m:\u001b[0m\u001b[0;34m\u001b[0m\u001b[0;34m\u001b[0m\u001b[0m\n\u001b[0;32m--> 399\u001b[0;31m         \u001b[0;32mreturn\u001b[0m \u001b[0mself\u001b[0m\u001b[0;34m.\u001b[0m\u001b[0m_conv_forward\u001b[0m\u001b[0;34m(\u001b[0m\u001b[0minput\u001b[0m\u001b[0;34m,\u001b[0m \u001b[0mself\u001b[0m\u001b[0;34m.\u001b[0m\u001b[0mweight\u001b[0m\u001b[0;34m,\u001b[0m \u001b[0mself\u001b[0m\u001b[0;34m.\u001b[0m\u001b[0mbias\u001b[0m\u001b[0;34m)\u001b[0m\u001b[0;34m\u001b[0m\u001b[0;34m\u001b[0m\u001b[0m\n\u001b[0m\u001b[1;32m    400\u001b[0m \u001b[0;34m\u001b[0m\u001b[0m\n\u001b[1;32m    401\u001b[0m \u001b[0;32mclass\u001b[0m \u001b[0mConv3d\u001b[0m\u001b[0;34m(\u001b[0m\u001b[0m_ConvNd\u001b[0m\u001b[0;34m)\u001b[0m\u001b[0;34m:\u001b[0m\u001b[0;34m\u001b[0m\u001b[0;34m\u001b[0m\u001b[0m\n",
            "\u001b[0;32m/usr/local/lib/python3.7/dist-packages/torch/nn/modules/conv.py\u001b[0m in \u001b[0;36m_conv_forward\u001b[0;34m(self, input, weight, bias)\u001b[0m\n\u001b[1;32m    394\u001b[0m                             _pair(0), self.dilation, self.groups)\n\u001b[1;32m    395\u001b[0m         return F.conv2d(input, weight, bias, self.stride,\n\u001b[0;32m--> 396\u001b[0;31m                         self.padding, self.dilation, self.groups)\n\u001b[0m\u001b[1;32m    397\u001b[0m \u001b[0;34m\u001b[0m\u001b[0m\n\u001b[1;32m    398\u001b[0m     \u001b[0;32mdef\u001b[0m \u001b[0mforward\u001b[0m\u001b[0;34m(\u001b[0m\u001b[0mself\u001b[0m\u001b[0;34m,\u001b[0m \u001b[0minput\u001b[0m\u001b[0;34m:\u001b[0m \u001b[0mTensor\u001b[0m\u001b[0;34m)\u001b[0m \u001b[0;34m->\u001b[0m \u001b[0mTensor\u001b[0m\u001b[0;34m:\u001b[0m\u001b[0;34m\u001b[0m\u001b[0;34m\u001b[0m\u001b[0m\n",
            "\u001b[0;31mRuntimeError\u001b[0m: CUDA out of memory. Tried to allocate 160.00 MiB (GPU 0; 14.76 GiB total capacity; 12.95 GiB already allocated; 41.75 MiB free; 13.68 GiB reserved in total by PyTorch)"
          ]
        },
        {
          "output_type": "stream",
          "text": [
            "Exception in thread Thread-474:\n",
            "Traceback (most recent call last):\n",
            "  File \"/usr/lib/python3.7/threading.py\", line 926, in _bootstrap_inner\n",
            "    self.run()\n",
            "  File \"/usr/lib/python3.7/threading.py\", line 870, in run\n",
            "    self._target(*self._args, **self._kwargs)\n",
            "  File \"<ipython-input-50-7e4844aa750b>\", line 4, in put_obj_in_queue\n",
            "    batches_queue.put((sample_batch[0].to(device),sample_batch[1]), block=True)\n",
            "RuntimeError: CUDA out of memory. Tried to allocate 30.00 MiB (GPU 0; 14.76 GiB total capacity; 12.98 GiB already allocated; 11.75 MiB free; 13.71 GiB reserved in total by PyTorch)\n",
            "Exception in thread Thread-447:\n",
            "Traceback (most recent call last):\n",
            "  File \"/usr/lib/python3.7/threading.py\", line 926, in _bootstrap_inner\n",
            "    self.run()\n",
            "  File \"/usr/lib/python3.7/threading.py\", line 870, in run\n",
            "    self._target(*self._args, **self._kwargs)\n",
            "  File \"<ipython-input-50-7e4844aa750b>\", line 4, in put_obj_in_queue\n",
            "    batches_queue.put((sample_batch[0].to(device),sample_batch[1]), block=True)\n",
            "RuntimeError: CUDA out of memory. Tried to allocate 30.00 MiB (GPU 0; 14.76 GiB total capacity; 12.98 GiB already allocated; 11.75 MiB free; 13.71 GiB reserved in total by PyTorch)\n",
            "\n",
            "Exception in thread Thread-469:\n",
            "Traceback (most recent call last):\n",
            "  File \"/usr/lib/python3.7/threading.py\", line 926, in _bootstrap_inner\n",
            "    self.run()\n",
            "  File \"/usr/lib/python3.7/threading.py\", line 870, in run\n",
            "    self._target(*self._args, **self._kwargs)\n",
            "  File \"<ipython-input-50-7e4844aa750b>\", line 4, in put_obj_in_queue\n",
            "    batches_queue.put((sample_batch[0].to(device),sample_batch[1]), block=True)\n",
            "RuntimeError: CUDA out of memory. Tried to allocate 30.00 MiB (GPU 0; 14.76 GiB total capacity; 12.98 GiB already allocated; 11.75 MiB free; 13.71 GiB reserved in total by PyTorch)\n",
            "\n",
            "\n",
            "Exception in thread Thread-501:\n",
            "Traceback (most recent call last):\n",
            "  File \"/usr/lib/python3.7/threading.py\", line 926, in _bootstrap_inner\n",
            "    self.run()\n",
            "  File \"/usr/lib/python3.7/threading.py\", line 870, in run\n",
            "    self._target(*self._args, **self._kwargs)\n",
            "  File \"<ipython-input-50-7e4844aa750b>\", line 4, in put_obj_in_queue\n",
            "    batches_queue.put((sample_batch[0].to(device),sample_batch[1]), block=True)\n",
            "RuntimeError: CUDA out of memory. Tried to allocate 30.00 MiB (GPU 0; 14.76 GiB total capacity; 12.98 GiB already allocated; 11.75 MiB free; 13.71 GiB reserved in total by PyTorch)\n",
            "\n",
            "Exception in thread Thread-468:\n",
            "Traceback (most recent call last):\n",
            "  File \"/usr/lib/python3.7/threading.py\", line 926, in _bootstrap_inner\n",
            "    self.run()\n",
            "  File \"/usr/lib/python3.7/threading.py\", line 870, in run\n",
            "    self._target(*self._args, **self._kwargs)\n",
            "  File \"<ipython-input-50-7e4844aa750b>\", line 4, in put_obj_in_queue\n",
            "    batches_queue.put((sample_batch[0].to(device),sample_batch[1]), block=True)\n",
            "RuntimeError: CUDA out of memory. Tried to allocate 30.00 MiB (GPU 0; 14.76 GiB total capacity; 12.98 GiB already allocated; 11.75 MiB free; 13.71 GiB reserved in total by PyTorch)\n",
            "\n",
            "Exception in thread Thread-458:\n",
            "Traceback (most recent call last):\n",
            "  File \"/usr/lib/python3.7/threading.py\", line 926, in _bootstrap_inner\n",
            "    self.run()\n",
            "  File \"/usr/lib/python3.7/threading.py\", line 870, in run\n",
            "    self._target(*self._args, **self._kwargs)\n",
            "  File \"<ipython-input-50-7e4844aa750b>\", line 4, in put_obj_in_queue\n",
            "    batches_queue.put((sample_batch[0].to(device),sample_batch[1]), block=True)\n",
            "RuntimeError: CUDA out of memory. Tried to allocate 30.00 MiB (GPU 0; 14.76 GiB total capacity; 12.98 GiB already allocated; 11.75 MiB free; 13.71 GiB reserved in total by PyTorch)\n",
            "\n",
            "Exception in thread Thread-470:\n",
            "Traceback (most recent call last):\n",
            "  File \"/usr/lib/python3.7/threading.py\", line 926, in _bootstrap_inner\n",
            "    self.run()\n",
            "  File \"/usr/lib/python3.7/threading.py\", line 870, in run\n",
            "    self._target(*self._args, **self._kwargs)\n",
            "  File \"<ipython-input-50-7e4844aa750b>\", line 4, in put_obj_in_queue\n",
            "    batches_queue.put((sample_batch[0].to(device),sample_batch[1]), block=True)\n",
            "RuntimeError: CUDA out of memory. Tried to allocate 30.00 MiB (GPU 0; 14.76 GiB total capacity; 12.98 GiB already allocated; 11.75 MiB free; 13.71 GiB reserved in total by PyTorch)\n",
            "\n",
            "Exception in thread Thread-500:\n",
            "Traceback (most recent call last):\n",
            "  File \"/usr/lib/python3.7/threading.py\", line 926, in _bootstrap_inner\n",
            "    self.run()\n",
            "  File \"/usr/lib/python3.7/threading.py\", line 870, in run\n",
            "    self._target(*self._args, **self._kwargs)\n",
            "  File \"<ipython-input-50-7e4844aa750b>\", line 4, in put_obj_in_queue\n",
            "    batches_queue.put((sample_batch[0].to(device),sample_batch[1]), block=True)\n",
            "RuntimeError: CUDA out of memory. Tried to allocate 30.00 MiB (GPU 0; 14.76 GiB total capacity; 12.98 GiB already allocated; 11.75 MiB free; 13.71 GiB reserved in total by PyTorch)\n",
            "\n",
            "Exception in thread Thread-480:\n",
            "Traceback (most recent call last):\n",
            "  File \"/usr/lib/python3.7/threading.py\", line 926, in _bootstrap_inner\n",
            "    self.run()\n",
            "  File \"/usr/lib/python3.7/threading.py\", line 870, in run\n",
            "    self._target(*self._args, **self._kwargs)\n",
            "  File \"<ipython-input-50-7e4844aa750b>\", line 4, in put_obj_in_queue\n",
            "    batches_queue.put((sample_batch[0].to(device),sample_batch[1]), block=True)\n",
            "RuntimeError: CUDA out of memory. Tried to allocate 30.00 MiB (GPU 0; 14.76 GiB total capacity; 12.98 GiB already allocated; 11.75 MiB free; 13.71 GiB reserved in total by PyTorch)\n",
            "\n",
            "Exception in thread Thread-472:\n",
            "Traceback (most recent call last):\n",
            "  File \"/usr/lib/python3.7/threading.py\", line 926, in _bootstrap_inner\n",
            "    self.run()\n",
            "  File \"/usr/lib/python3.7/threading.py\", line 870, in run\n",
            "    self._target(*self._args, **self._kwargs)\n",
            "  File \"<ipython-input-50-7e4844aa750b>\", line 4, in put_obj_in_queue\n",
            "    batches_queue.put((sample_batch[0].to(device),sample_batch[1]), block=True)\n",
            "RuntimeError: CUDA out of memory. Tried to allocate 30.00 MiB (GPU 0; 14.76 GiB total capacity; 12.98 GiB already allocated; 11.75 MiB free; 13.71 GiB reserved in total by PyTorch)\n",
            "\n",
            "Exception in thread Thread-457:\n",
            "Traceback (most recent call last):\n",
            "  File \"/usr/lib/python3.7/threading.py\", line 926, in _bootstrap_inner\n",
            "    self.run()\n",
            "  File \"/usr/lib/python3.7/threading.py\", line 870, in run\n",
            "    self._target(*self._args, **self._kwargs)\n",
            "  File \"<ipython-input-50-7e4844aa750b>\", line 4, in put_obj_in_queue\n",
            "    batches_queue.put((sample_batch[0].to(device),sample_batch[1]), block=True)\n",
            "RuntimeError: CUDA out of memory. Tried to allocate 30.00 MiB (GPU 0; 14.76 GiB total capacity; 12.98 GiB already allocated; 11.75 MiB free; 13.71 GiB reserved in total by PyTorch)\n",
            "\n",
            "Exception in thread Thread-451:\n",
            "Traceback (most recent call last):\n",
            "  File \"/usr/lib/python3.7/threading.py\", line 926, in _bootstrap_inner\n",
            "    self.run()\n",
            "  File \"/usr/lib/python3.7/threading.py\", line 870, in run\n",
            "    self._target(*self._args, **self._kwargs)\n",
            "  File \"<ipython-input-50-7e4844aa750b>\", line 4, in put_obj_in_queue\n",
            "    batches_queue.put((sample_batch[0].to(device),sample_batch[1]), block=True)\n",
            "RuntimeError: CUDA out of memory. Tried to allocate 30.00 MiB (GPU 0; 14.76 GiB total capacity; 12.98 GiB already allocated; 11.75 MiB free; 13.71 GiB reserved in total by PyTorch)\n",
            "\n",
            "Exception in thread Thread-481:\n",
            "Traceback (most recent call last):\n",
            "  File \"/usr/lib/python3.7/threading.py\", line 926, in _bootstrap_inner\n",
            "    self.run()\n",
            "  File \"/usr/lib/python3.7/threading.py\", line 870, in run\n",
            "    self._target(*self._args, **self._kwargs)\n",
            "  File \"<ipython-input-50-7e4844aa750b>\", line 4, in put_obj_in_queue\n",
            "    batches_queue.put((sample_batch[0].to(device),sample_batch[1]), block=True)\n",
            "RuntimeError: CUDA out of memory. Tried to allocate 30.00 MiB (GPU 0; 14.76 GiB total capacity; 12.98 GiB already allocated; 11.75 MiB free; 13.71 GiB reserved in total by PyTorch)\n",
            "\n",
            "Exception in thread Thread-485:\n",
            "Traceback (most recent call last):\n",
            "  File \"/usr/lib/python3.7/threading.py\", line 926, in _bootstrap_inner\n",
            "    self.run()\n",
            "  File \"/usr/lib/python3.7/threading.py\", line 870, in run\n",
            "    self._target(*self._args, **self._kwargs)\n",
            "  File \"<ipython-input-50-7e4844aa750b>\", line 4, in put_obj_in_queue\n",
            "    batches_queue.put((sample_batch[0].to(device),sample_batch[1]), block=True)\n",
            "RuntimeError: CUDA out of memory. Tried to allocate 30.00 MiB (GPU 0; 14.76 GiB total capacity; 12.98 GiB already allocated; 11.75 MiB free; 13.71 GiB reserved in total by PyTorch)\n",
            "\n",
            "Exception in thread Thread-486:\n",
            "Traceback (most recent call last):\n",
            "  File \"/usr/lib/python3.7/threading.py\", line 926, in _bootstrap_inner\n",
            "    self.run()\n",
            "  File \"/usr/lib/python3.7/threading.py\", line 870, in run\n",
            "    self._target(*self._args, **self._kwargs)\n",
            "  File \"<ipython-input-50-7e4844aa750b>\", line 4, in put_obj_in_queue\n",
            "    batches_queue.put((sample_batch[0].to(device),sample_batch[1]), block=True)\n",
            "RuntimeError: CUDA out of memory. Tried to allocate 30.00 MiB (GPU 0; 14.76 GiB total capacity; 12.98 GiB already allocated; 11.75 MiB free; 13.71 GiB reserved in total by PyTorch)\n",
            "\n",
            "Exception in thread Thread-466:\n",
            "Traceback (most recent call last):\n",
            "  File \"/usr/lib/python3.7/threading.py\", line 926, in _bootstrap_inner\n",
            "    self.run()\n",
            "  File \"/usr/lib/python3.7/threading.py\", line 870, in run\n",
            "    self._target(*self._args, **self._kwargs)\n",
            "  File \"<ipython-input-50-7e4844aa750b>\", line 4, in put_obj_in_queue\n",
            "    batches_queue.put((sample_batch[0].to(device),sample_batch[1]), block=True)\n",
            "RuntimeError: CUDA out of memory. Tried to allocate 30.00 MiB (GPU 0; 14.76 GiB total capacity; 12.98 GiB already allocated; 11.75 MiB free; 13.71 GiB reserved in total by PyTorch)\n",
            "\n",
            "Exception in thread Thread-450:\n",
            "Traceback (most recent call last):\n",
            "  File \"/usr/lib/python3.7/threading.py\", line 926, in _bootstrap_inner\n",
            "    self.run()\n",
            "  File \"/usr/lib/python3.7/threading.py\", line 870, in run\n",
            "    self._target(*self._args, **self._kwargs)\n",
            "  File \"<ipython-input-50-7e4844aa750b>\", line 4, in put_obj_in_queue\n",
            "    batches_queue.put((sample_batch[0].to(device),sample_batch[1]), block=True)\n",
            "RuntimeError: CUDA out of memory. Tried to allocate 30.00 MiB (GPU 0; 14.76 GiB total capacity; 12.98 GiB already allocated; 11.75 MiB free; 13.71 GiB reserved in total by PyTorch)\n",
            "\n"
          ],
          "name": "stderr"
        }
      ]
    },
    {
      "cell_type": "code",
      "metadata": {
        "id": "uuDbNRzyh1Tk"
      },
      "source": [
        "#Here answers on test saved to file which can be uploaded to kaggle\n",
        "df = pd.DataFrame(ans).drop_duplicates(subset =\"jpg_filename\", keep = 'first')\n",
        "df.to_csv('drive/MyDrive/result.csv',index=False)"
      ],
      "execution_count": null,
      "outputs": []
    },
    {
      "cell_type": "code",
      "metadata": {
        "id": "w0pwht-zo7lu",
        "colab": {
          "base_uri": "https://localhost:8080/",
          "height": 419
        },
        "outputId": "a0bd7cd0-0d86-420e-bd66-553d60429d57"
      },
      "source": [
        "df"
      ],
      "execution_count": null,
      "outputs": [
        {
          "output_type": "execute_result",
          "data": {
            "text/html": [
              "<div>\n",
              "<style scoped>\n",
              "    .dataframe tbody tr th:only-of-type {\n",
              "        vertical-align: middle;\n",
              "    }\n",
              "\n",
              "    .dataframe tbody tr th {\n",
              "        vertical-align: top;\n",
              "    }\n",
              "\n",
              "    .dataframe thead th {\n",
              "        text-align: right;\n",
              "    }\n",
              "</style>\n",
              "<table border=\"1\" class=\"dataframe\">\n",
              "  <thead>\n",
              "    <tr style=\"text-align: right;\">\n",
              "      <th></th>\n",
              "      <th>jpg_filename</th>\n",
              "      <th>TCC</th>\n",
              "    </tr>\n",
              "  </thead>\n",
              "  <tbody>\n",
              "    <tr>\n",
              "      <th>0</th>\n",
              "      <td>a20186e5-c307-4c3c-8c52-2e7af9ce1d1c.jpg</td>\n",
              "      <td>5</td>\n",
              "    </tr>\n",
              "    <tr>\n",
              "      <th>1</th>\n",
              "      <td>a2623c07-9ef3-4947-b9ce-2b20e4e6c37d.jpg</td>\n",
              "      <td>1</td>\n",
              "    </tr>\n",
              "    <tr>\n",
              "      <th>2</th>\n",
              "      <td>7b55958f-b459-4944-b00c-264478062b05.jpg</td>\n",
              "      <td>6</td>\n",
              "    </tr>\n",
              "    <tr>\n",
              "      <th>3</th>\n",
              "      <td>747da6bb-2e4d-42f4-92f5-c0daed2b330a.jpg</td>\n",
              "      <td>7</td>\n",
              "    </tr>\n",
              "    <tr>\n",
              "      <th>4</th>\n",
              "      <td>468ff098-118d-4bd9-af31-5d349b64afe7.jpg</td>\n",
              "      <td>1</td>\n",
              "    </tr>\n",
              "    <tr>\n",
              "      <th>...</th>\n",
              "      <td>...</td>\n",
              "      <td>...</td>\n",
              "    </tr>\n",
              "    <tr>\n",
              "      <th>26995</th>\n",
              "      <td>23ccd87b-86bc-4677-b2b0-6fe3edf24811.jpg</td>\n",
              "      <td>0</td>\n",
              "    </tr>\n",
              "    <tr>\n",
              "      <th>26996</th>\n",
              "      <td>3b320016-9a0f-4e0d-b5d0-19e94b15312e.jpg</td>\n",
              "      <td>5</td>\n",
              "    </tr>\n",
              "    <tr>\n",
              "      <th>26997</th>\n",
              "      <td>89d5bb07-8941-4798-b7cc-40b54274022e.jpg</td>\n",
              "      <td>6</td>\n",
              "    </tr>\n",
              "    <tr>\n",
              "      <th>26998</th>\n",
              "      <td>f6559cdc-cfc2-4190-a199-6d17a46dd26c.jpg</td>\n",
              "      <td>8</td>\n",
              "    </tr>\n",
              "    <tr>\n",
              "      <th>27016</th>\n",
              "      <td>1976c821-2455-419f-80df-3358b0fd11ad.jpg</td>\n",
              "      <td>8</td>\n",
              "    </tr>\n",
              "  </tbody>\n",
              "</table>\n",
              "<p>27000 rows × 2 columns</p>\n",
              "</div>"
            ],
            "text/plain": [
              "                                   jpg_filename  TCC\n",
              "0      a20186e5-c307-4c3c-8c52-2e7af9ce1d1c.jpg    5\n",
              "1      a2623c07-9ef3-4947-b9ce-2b20e4e6c37d.jpg    1\n",
              "2      7b55958f-b459-4944-b00c-264478062b05.jpg    6\n",
              "3      747da6bb-2e4d-42f4-92f5-c0daed2b330a.jpg    7\n",
              "4      468ff098-118d-4bd9-af31-5d349b64afe7.jpg    1\n",
              "...                                         ...  ...\n",
              "26995  23ccd87b-86bc-4677-b2b0-6fe3edf24811.jpg    0\n",
              "26996  3b320016-9a0f-4e0d-b5d0-19e94b15312e.jpg    5\n",
              "26997  89d5bb07-8941-4798-b7cc-40b54274022e.jpg    6\n",
              "26998  f6559cdc-cfc2-4190-a199-6d17a46dd26c.jpg    8\n",
              "27016  1976c821-2455-419f-80df-3358b0fd11ad.jpg    8\n",
              "\n",
              "[27000 rows x 2 columns]"
            ]
          },
          "metadata": {
            "tags": []
          },
          "execution_count": 41
        }
      ]
    },
    {
      "cell_type": "code",
      "metadata": {
        "id": "rrb7HqMl9eHM"
      },
      "source": [
        "class LandmarksDataset(Dataset):\n",
        "    def __init__(self, pkl_file, root_dir, transform=None, batch_size = 8, augment = True, mode='train'):\n",
        "        \"\"\"\n",
        "        Args:\n",
        "            pkl_file (string): Path to the pkl file with annotations.\n",
        "            root_dir (string): Directory with all the images.\n",
        "            transform (callable, optional): Optional transform to be applied on a sample.\n",
        "            batch_size (int, optional): batch size\n",
        "        \"\"\"\n",
        "        if mode=='train':\n",
        "            self.return_y = True\n",
        "        elif mode=='test':\n",
        "            self.return_y = False\n",
        "        else:\n",
        "            raise ValueError(\"Mode can be only 'train' or 'test'\")\n",
        "        with open(pkl_file, 'rb') as f:\n",
        "            marked_data_loaded = pickle.load(f)\n",
        "        self.total_len = 0\n",
        "        if self.return_y:\n",
        "            self.all_data = {i:[] for i in range(9)}\n",
        "            for elem in marked_data_loaded:\n",
        "                self.all_data[elem['observed_TCC']].append(elem)\n",
        "            self.landmarks_frame = []\n",
        "            for i in range(9):\n",
        "                mass_len = min(5000,len(self.all_data[i])) # change 5000(first number) to any desired number of objects of each TCC\n",
        "                self.total_len += mass_len\n",
        "                self.landmarks_frame += list(np.random.choice(self.all_data[i], size=mass_len))\n",
        "\n",
        "        else:\n",
        "            self.landmarks_frame = marked_data_loaded\n",
        "        self.total_len = len(self.landmarks_frame)\n",
        "        self.root_dir = root_dir\n",
        "        self.transform = transform # This should be only applied to single image!\n",
        "        #Transforms image to appropriate format for loaded torch nn\n",
        "        #Read here: https://pytorch.org/hub/pytorch_vision_resnet/\n",
        "\n",
        "        self.batch_size = batch_size\n",
        "\n",
        "\n",
        "        self.lock = threading.Lock()\n",
        "        self.yield_lock = threading.Lock()\n",
        "        self.init_count = 0\n",
        "        self.augment = augment\n",
        "        if self.augment:\n",
        "            # instantiate augmentations\n",
        "            self.seq = torchvision.transforms.Compose([\n",
        "                       torchvision.transforms.ColorJitter(brightness=0.3, contrast=0.3, saturation=0.3, hue=0),\n",
        "                       torchvision.transforms.RandomRotation(degrees=45),\n",
        "                       torchvision.transforms.RandomHorizontalFlip(p=0.5),\n",
        "                       torchvision.transforms.RandomVerticalFlip(p=0.5)\n",
        "                       ])\n",
        "            self.seq_2 = iaa.CoarseDropout(0.02, size_percent=0.5)\n",
        "        else:\n",
        "            self.seq = lambda images: images\n",
        "            # iaa.meta.Identity() somehow doesn't work in colab version of imgaug .__.\n",
        "\n",
        "\n",
        "    def __len__(self):\n",
        "      return self.total_len\n",
        "\n",
        "    def shuffle(self):\n",
        "        if self.return_y:\n",
        "            self.landmarks_frame = []\n",
        "            for i in range(9):\n",
        "                mass_len = min(5000,len(self.all_data[i])) # change 5000(first number) to any desired number of objects of each TCC\n",
        "                self.total_len += mass_len\n",
        "                self.landmarks_frame += list(np.random.choice(self.all_data[i], size=mass_len))\n",
        "        self.objects_id_generator = Threadsafe_iter(get_objects_i(len(self.landmarks_frame)))\n",
        "        self.landmarks_frame = shuffle(self.landmarks_frame)\n",
        "\n",
        "    def __iter__(self):\n",
        "        while True:\n",
        "            with self.lock:\n",
        "                if (self.init_count == 0):\n",
        "                    self.shuffle()\n",
        "                    self.imgs = []\n",
        "                    self.y_train = []\n",
        "                    self.init_count = 1\n",
        "            for obj_id in self.objects_id_generator:\n",
        "                #print(obj_id)\n",
        "                img_name = os.path.join(self.root_dir,self.landmarks_frame[obj_id]['mission'],'snapshots',\n",
        "                                        'snapshots-'+self.landmarks_frame[obj_id]['observations_dt'].strftime(\"%Y-%m-%d\"),\n",
        "                                        self.landmarks_frame[obj_id]['jpg_filename']) #check if correct path\n",
        "\n",
        "\n",
        "                img = Image.open(img_name)\n",
        "                #mask definition and application to image\n",
        "                insert_img = np.full((img.width,img.height,3),0,dtype=np.uint8)\n",
        "                mask_name = os.path.join(self.root_dir,self.landmarks_frame[obj_id]['mask_fname'])\n",
        "                mask = Image.open(mask_name)\n",
        "                mask = np.array(mask.resize((img.width,img.height)))\n",
        "                mask = mask>0\n",
        "                mask = Image.fromarray(np.uint8(mask*255))\n",
        "                image = Image.composite(img, Image.fromarray(insert_img), mask) #applying mask\n",
        "                mask.close()\n",
        "                img.close()\n",
        "\n",
        "\n",
        "                img_augmented = self.seq(image)\n",
        "                img_augmented = self.seq_2.augment_images([np.array(img_augmented)])\n",
        "                image = self.transform(np.array(img_augmented[0]))\n",
        "                del img_augmented\n",
        "                #print(sys.getsizeof(image))\n",
        "                #image = self.transform(image)\n",
        "\n",
        "                # Concurrent access by multiple threads to the lists below\n",
        "                if self.return_y:\n",
        "                    with self.yield_lock:\n",
        "                        if (len(self.imgs)) < self.batch_size:\n",
        "                            self.imgs.append(image)\n",
        "                            self.y_train.append(self.landmarks_frame[obj_id]['observed_TCC'])\n",
        "                        if len(self.imgs) % self.batch_size == 0:\n",
        "                            gc.collect()\n",
        "                            yield torch.stack(self.imgs,dim=0), torch.tensor(self.y_train)\n",
        "                            self.imgs = []\n",
        "                            self.y_train = []\n",
        "                else:\n",
        "                    with self.yield_lock:\n",
        "                        if (len(self.imgs)) < self.batch_size:\n",
        "                            self.imgs.append(image)\n",
        "                            self.y_train.append(self.landmarks_frame[obj_id]['jpg_filename'])\n",
        "                        if len(self.imgs) % self.batch_size == 0:\n",
        "                            #imgs_f32 = np.float32(self.imgs)\n",
        "                            yield torch.stack(self.imgs,dim=0), self.y_train\n",
        "                            self.imgs = []\n",
        "                            self.y_train = []\n",
        "            # At the end of an epoch we re-init data-structures\n",
        "            with self.lock:\n",
        "                self.landmarks_frame = shuffle(self.landmarks_frame)\n",
        "                self.init_count = 0"
      ],
      "execution_count": null,
      "outputs": []
    },
    {
      "cell_type": "code",
      "metadata": {
        "id": "OE11dRJPpLOI"
      },
      "source": [
        "class ToTensor(object):\n",
        "    \"\"\"Convert pillow images in sample to Tensors.        transforms.Resize(224),\n",
        "     Update: Here we also transform images to appropriate format for loaded nn input\"\"\"\n",
        "    def __call__(self, sample):\n",
        "        image = sample\n",
        "        #Read here: https://pytorch.org/hub/pytorch_vision_resnet/\n",
        "        preprocess = transforms.Compose([\n",
        "        transforms.ToTensor(),\n",
        "        transforms.Resize(224),\n",
        "        # transforms.Normalize(mean=[0.485, 0.456, 0.406], std=[0.229, 0.224, 0.225])\n",
        "        ])\n",
        "        return preprocess(image)"
      ],
      "execution_count": null,
      "outputs": []
    },
    {
      "cell_type": "code",
      "metadata": {
        "id": "IfInjMiApQQV"
      },
      "source": [
        "dataset = LandmarksDataset(pkl_file=images_base_dir+'index.pkl',\n",
        "                           root_dir=images_base_dir,\n",
        "                           transform=ToTensor(),\n",
        "                           batch_size=1, augment=True)"
      ],
      "execution_count": null,
      "outputs": []
    },
    {
      "cell_type": "code",
      "metadata": {
        "id": "8C3h01BK3Lyg",
        "colab": {
          "base_uri": "https://localhost:8080/",
          "height": 320
        },
        "outputId": "a15dd8cc-2349-4cb6-e7dd-e1787ff9739a"
      },
      "source": [
        "for sample_batch in dataset:\n",
        "    print(type(sample_batch[0]))\n",
        "    plt.imshow(sample_batch[0].squeeze().transpose(0,1).transpose(1,2))\n",
        "    break"
      ],
      "execution_count": null,
      "outputs": [
        {
          "output_type": "stream",
          "text": [
            "(512, 512, 3)\n",
            "(1, 512, 512, 3)\n",
            "<class 'torch.Tensor'>\n"
          ],
          "name": "stdout"
        },
        {
          "output_type": "display_data",
          "data": {
            "image/png": "[encoded data removed]",
            "text/plain": [
              "<Figure size 432x288 with 1 Axes>"
            ]
          },
          "metadata": {
            "tags": [],
            "needs_background": "light"
          }
        }
      ]
    },
    {
      "cell_type": "code",
      "metadata": {
        "id": "iSHWZJX1ezrG"
      },
      "source": [
        ""
      ],
      "execution_count": null,
      "outputs": []
    }
  ]
}