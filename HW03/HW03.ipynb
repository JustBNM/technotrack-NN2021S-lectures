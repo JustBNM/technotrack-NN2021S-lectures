{
 "cells": [
  {
   "cell_type": "markdown",
   "metadata": {
    "id": "lQr8rfpvBXTj"
   },
   "source": [
    "# ДЗ №3 \n",
    "## Обучение моделей глубокого обучения на PyTorch"
   ]
  },
  {
   "cell_type": "code",
   "execution_count": 1,
   "metadata": {
    "colab": {
     "base_uri": "https://localhost:8080/"
    },
    "id": "KKcXna5iBXTs",
    "outputId": "c7bda065-1bef-45a7-ed90-b574114c3a5e"
   },
   "outputs": [
    {
     "name": "stdout",
     "output_type": "stream",
     "text": [
      "Requirement already satisfied: torch in /usr/local/lib/python3.7/dist-packages (1.8.1+cu101)\n",
      "Requirement already satisfied: torchvision in /usr/local/lib/python3.7/dist-packages (0.9.1+cu101)\n",
      "Requirement already satisfied: numpy in /usr/local/lib/python3.7/dist-packages (1.19.5)\n",
      "Requirement already satisfied: matplotlib in /usr/local/lib/python3.7/dist-packages (3.2.2)\n",
      "Requirement already satisfied: typing-extensions in /usr/local/lib/python3.7/dist-packages (from torch) (3.7.4.3)\n",
      "Requirement already satisfied: pillow>=4.1.1 in /usr/local/lib/python3.7/dist-packages (from torchvision) (7.1.2)\n",
      "Requirement already satisfied: python-dateutil>=2.1 in /usr/local/lib/python3.7/dist-packages (from matplotlib) (2.8.1)\n",
      "Requirement already satisfied: cycler>=0.10 in /usr/local/lib/python3.7/dist-packages (from matplotlib) (0.10.0)\n",
      "Requirement already satisfied: pyparsing!=2.0.4,!=2.1.2,!=2.1.6,>=2.0.1 in /usr/local/lib/python3.7/dist-packages (from matplotlib) (2.4.7)\n",
      "Requirement already satisfied: kiwisolver>=1.0.1 in /usr/local/lib/python3.7/dist-packages (from matplotlib) (1.3.1)\n",
      "Requirement already satisfied: six>=1.5 in /usr/local/lib/python3.7/dist-packages (from python-dateutil>=2.1->matplotlib) (1.15.0)\n"
     ]
    }
   ],
   "source": [
    "!pip3 install torch torchvision numpy matplotlib"
   ]
  },
  {
   "cell_type": "markdown",
   "metadata": {
    "id": "5MHMFEPyBXTw"
   },
   "source": [
    "Ваша задача на этой неделе - повторить модель трёхслойного перцептрона из прошолго задания на **PyTorch**, разобрать лучшие практики обучения моделей глубокого обучения и провести серию экспериментов"
   ]
  },
  {
   "cell_type": "code",
   "execution_count": 2,
   "metadata": {
    "id": "Cx36ZMTRBXTy"
   },
   "outputs": [],
   "source": [
    "import torch\n",
    "import torchvision\n",
    "import numpy as np\n",
    "import matplotlib.pyplot as plt\n",
    "\n",
    "from typing import Tuple, List, Type, Dict, Any\n",
    "\n",
    "import torch\n",
    "from torch import nn\n",
    "from torch.utils.data import DataLoader\n",
    "from torchvision import datasets\n",
    "from torchvision.transforms import ToTensor, Lambda"
   ]
  },
  {
   "cell_type": "markdown",
   "metadata": {
    "id": "Nj05zsCoBXT0"
   },
   "source": [
    "Для того, чтобы эксперимент можно было повторить, хорошей практикой будет зафиксировать генератор случайных чисел. Также, рекоммендуется зафиксировать RNG в numpy и, если в качестве бэкенда используется cudnn - включить детерминированный режим.\n",
    "\n",
    "Подробнее: https://pytorch.org/docs/stable/notes/randomness.html"
   ]
  },
  {
   "cell_type": "code",
   "execution_count": 3,
   "metadata": {
    "id": "-g5CI4bpBXT2"
   },
   "outputs": [],
   "source": [
    "torch.manual_seed(0)\n",
    "np.random.seed(0)\n",
    "torch.backends.cudnn.deterministic = True\n",
    "torch.backends.cudnn.benchmark = False"
   ]
  },
  {
   "cell_type": "markdown",
   "metadata": {
    "id": "tU4E4fPXBXT3"
   },
   "source": [
    "### Модель\n",
    "\n",
    "Основным способом организации кода на **Pytorch** является модуль. Простые модели могут быть реализованны из готовых модулей ( к примеру, `torch.nn.Sequential`, `torch.nn.Linear` и т.д. ), для более сложных архитектур часто приходтся реализовывать собственные блоки. Это достаточно легко сделать - достаточно написать класс, наследуемый от `torch.nn.Module` и реализующий метод `.forward`, который принимает и возвращает тензоры ( `torch.Tensor` ). Чаще всего этого достаточно и писать реализацию метода `backward` не нужно: за вас это сделает библиотека автоматического вычисления градиентов, реализованная в **Pytorch**.\n",
    "\n",
    "Пример реализации кастомного модуля из официальной документации: https://pytorch.org/tutorials/beginner/pytorch_with_examples.html"
   ]
  },
  {
   "cell_type": "markdown",
   "metadata": {
    "id": "E67KPr3EBXT5"
   },
   "source": [
    "Здесь нелишним будет напомнить, что в подходе, используемом в Pytorch, все обучаемые параметры модуля должны существовать как атрибуты экземпляра этого модуля. То есть, объекты, соответствующие исполняемым объектам (`callable`), содержащим обучаемые параметры модуля, должны быть атрибутами этого модуля (`self.xxx`) и должны быть созданы в методе `__init__()`. При этом применяться к данным они должны в методе `forward()` этого модуля."
   ]
  },
  {
   "cell_type": "markdown",
   "metadata": {
    "id": "hx594BLKBXT7"
   },
   "source": [
    "#### Задание 1\n",
    "\n",
    "Повторите реализацию трёхслойного перцептрона из предыдущего задания на **Pytorch**. Желательно также, чтобы реализация модели имела параметризуемую глубину ( количество слоёв ), количество параметров на каждом слое и функцию активации. Отсутствие такой возможности не снижает балл, но сильно поможет в освоении принципов построения нейросетей с применением библиотеки pytorch."
   ]
  },
  {
   "cell_type": "code",
   "execution_count": 4,
   "metadata": {
    "id": "W6pQvQsnBXT9"
   },
   "outputs": [],
   "source": [
    "class Perceptron(torch.nn.Module):\n",
    "    \n",
    "    def __init__(self, \n",
    "                 input_resolution: Tuple[int, int] = (28, 28),\n",
    "                 input_channels: int = 1, \n",
    "                 hidden_layer_features: List[int] = [256, 256],\n",
    "                 activation: Type[torch.nn.Module] = torch.nn.ReLU,\n",
    "                 num_classes: int = 10):\n",
    "\n",
    "        super().__init__()\n",
    "        self.flatten = nn.Flatten()\n",
    "        self.activation = activation\n",
    "        \n",
    "        self.linear_network = nn.Sequential(\n",
    "            nn.Linear(28*28, 256),\n",
    "            nn.ReLU(),\n",
    "            nn.Linear(256, 256),\n",
    "            nn.ReLU(),\n",
    "            nn.Linear(256, 10),\n",
    "            nn.ReLU()\n",
    "        )\n",
    "    \n",
    "    def forward(self, x):\n",
    "        x = self.flatten(x)\n",
    "        return self.linear_network(x)"
   ]
  },
  {
   "cell_type": "markdown",
   "metadata": {
    "id": "PzAiJ5sKBXT_"
   },
   "source": [
    "Следующий код позволяет посмотреть архитектуру получившейся модели и общее количество обучаемых параметров. Мы хотим, чтобы количество параметров в модели было порядка сотен тысяч. Если у вас получается больше или меньше, попробуйте изменить архитектуру модели."
   ]
  },
  {
   "cell_type": "code",
   "execution_count": 5,
   "metadata": {
    "colab": {
     "base_uri": "https://localhost:8080/"
    },
    "id": "GIwqHv91BXUB",
    "outputId": "70064eeb-7b85-477c-a7a7-7f4b9e65c384"
   },
   "outputs": [
    {
     "name": "stdout",
     "output_type": "stream",
     "text": [
      "Perceptron(\n",
      "  (flatten): Flatten(start_dim=1, end_dim=-1)\n",
      "  (linear_network): Sequential(\n",
      "    (0): Linear(in_features=784, out_features=256, bias=True)\n",
      "    (1): ReLU()\n",
      "    (2): Linear(in_features=256, out_features=256, bias=True)\n",
      "    (3): ReLU()\n",
      "    (4): Linear(in_features=256, out_features=10, bias=True)\n",
      "    (5): ReLU()\n",
      "  )\n",
      ")\n",
      "Total number of trainable parameters 269322\n"
     ]
    }
   ],
   "source": [
    "model = Perceptron()\n",
    "print(model)\n",
    "print('Total number of trainable parameters', \n",
    "      sum(p.numel() for p in model.parameters() if p.requires_grad))"
   ]
  },
  {
   "cell_type": "markdown",
   "metadata": {
    "id": "k8mhpx3ZBXUC"
   },
   "source": [
    "### Обучающая выборка\n",
    "\n",
    "На практике, наиболее важным для успеха обучения любой модели машинного обучения является этап подготовки данных. Модели глубокого обучения не являются исключением. Большая, чистая, репрезентативная и релевантная поставленной задаче обучающая выборка часто важнее, чем архитектура самой модели. В предлагаемой задаче используется качественный и проверенный временем MNIST. Однако в практических задачах часто будет получаться так, что лучшим способом добиться улучшения качества модели будет сбор дополнительных данных и очистка исходных данных."
   ]
  },
  {
   "cell_type": "markdown",
   "metadata": {
    "id": "2JJ-rypEBXUE"
   },
   "source": [
    "### Предобработка данных\n",
    "\n",
    "Для улучшения сходимости алгоритма обучения и качества полученной модели данные могут быть предварительно обработаны:\n",
    "\n",
    "1. Среднее каждой входной переменной близко к нулю\n",
    "2. Переменные отмасштабированы таким образом, что их дисперсии примерно одинаковы ( из соображений вычислительной устойчивости, мы хотим, чтобы все величины по порядку величины были близки к еденице )\n",
    "3. По возможности, входные переменные не должны быть скоррелированны. Важнось этого пункта в последние годы ставится под сомнение, но всё-же в некоторых случаях это может влиять на результат\n",
    "\n",
    "Подробнее можно почитать здесь: http://yann.lecun.com/exdb/publis/pdf/lecun-98b.pdf"
   ]
  },
  {
   "cell_type": "markdown",
   "metadata": {
    "id": "UrUKybd4BXUM"
   },
   "source": [
    "### Аугментация (искусственное дополнение) обучающей выборки\n",
    "\n",
    "В зависимости от задачи можно применять к признаковому описанию объектов обучающей выборки различные преобразования, которые позволят увеличить эффективный размер выборки без дополнительной разметки. К примеру, для задачи классификации кошек и собак можно зеркально отразить изображение вокруг вертикальной оси - при этом класс изображения не изменится, а само изображение останется по прежнему будет принадлежать исходному распределению. Есть много разных техник аугментации, и их применимость и эффективность сильно зависит от данных и задачи.\n",
    "\n",
    "Подробнее можно почитать здесь: https://link.springer.com/content/pdf/10.1186/s40537-019-0197-0.pdf"
   ]
  },
  {
   "cell_type": "markdown",
   "metadata": {
    "id": "-TK0oECLBXUO"
   },
   "source": [
    "### Задание 2\n",
    "\n",
    "Обоснуйте, почему аугментация обучающей выборки позволяет добиться прироста качества модели, несмотря на то, что она не добавляет в неё дополнительную информацию."
   ]
  },
  {
   "cell_type": "markdown",
   "metadata": {
    "id": "sN3cvvACBXUP"
   },
   "source": [
    "**Ответ**    \n",
    "Следует понимать, что в процессе работы обученной модели вероятнее всего будут встречаться данные не абсолютно похожие на те, на которых мы обучались. Применение аугментаций как раз таки даёт возможность по разному покрутить картинки и получить дополнительный набор структур для обучения.     \n",
    "Кроме того, применение фильтров к исходным данным (блюр, обрезание) повышает устойчивость модели к шумам, которые могут возникать."
   ]
  },
  {
   "cell_type": "markdown",
   "metadata": {
    "id": "tm62bu50BXUQ"
   },
   "source": [
    "### Задание 3\n",
    "\n",
    "Какие осмысленные аугментации вы можете придумать для следующих наборов данных:\n",
    "\n",
    "1. Набор изображений животных, размеченый на виды животных\n",
    "2. Набор аудиозаписей голоса, размечеными на языки говорящего\n",
    "3. Набор cо показаниями датчиков температуры, влажности и давления с одной из метеостанций, размеченый на признак наличия осадков"
   ]
  },
  {
   "cell_type": "markdown",
   "metadata": {
    "id": "uzAAVU74BXUR"
   },
   "source": [
    "**Ответ**     \n",
    "Каждая задача подразумевает свой набор аугментаций, который для них применим. Для данных примеров могу предложить следующее:     \n",
    "1. Геометрические аугментации (повороты/сдвиги), яркостные и цветовые аугментации, замена фона, добавление шумов, CoarseDropout, CutOut.\n",
    "2. Добавление шумов, изменение тональности, изменение скорости речи. Кроме того, звуковые сигналы можно переводить в спектрограммы и работать с ними, например смещаться во времени.\n",
    "3. Удаление части features, аналог CutOut; добавление шума в данные."
   ]
  },
  {
   "cell_type": "markdown",
   "metadata": {
    "id": "spyZd3_rBXUS"
   },
   "source": [
    "### Задание 4\n",
    "\n",
    "Напишите пайплайн для предобработки и аугументации данных. В `torchvision.transforms` есть готовые реализации большинства распространённых техник. Если вы хотите добавить что-то своё, вы можете воспользоваться `torchvision.transforms.Lambda`. При этом следует понимать, что если нужно оценить качество модели на оригинальных данных, пайплайн предварительной обработки данных валидационной выборки не должен включать аугментаций. Следует помнить, однако, что существует подход аугментации данных в момент применения модели (test-time augmentation), который позволяет повысить качество модели в режиме исполнения.\n",
    "\n",
    "Одним из обязательных шагов в вашем пайплайне должна быть конвертация данных в тензоры Pytorch (`torch.Tensor`): `torchvision.transforms.ToTensor()`."
   ]
  },
  {
   "cell_type": "markdown",
   "metadata": {
    "id": "6rU6czxTkPbJ"
   },
   "source": [
    "**Ответ**     \n",
    "Важным пунктом предобработки данных является нормировка. Для этого используется модуль `torchvision.transforms.Normalize()`. Рассчитаем статистики, которые будут использоваться для нормировки. Статистики будем считать на всём датасете до преобразований."
   ]
  },
  {
   "cell_type": "code",
   "execution_count": 6,
   "metadata": {
    "id": "Zvb7Lsf1hx6r"
   },
   "outputs": [],
   "source": [
    "val_dataset = torchvision.datasets.MNIST(root='./mnist', \n",
    "                                         train=False, \n",
    "                                         download=True, \n",
    "                                         transform=torchvision.transforms.ToTensor())"
   ]
  },
  {
   "cell_type": "code",
   "execution_count": 7,
   "metadata": {
    "colab": {
     "base_uri": "https://localhost:8080/"
    },
    "id": "OuXhYmlZfv5A",
    "outputId": "267e97c7-0022-4b98-a05c-e66165d5c408"
   },
   "outputs": [
    {
     "name": "stdout",
     "output_type": "stream",
     "text": [
      "mean: tensor([0.1325]), std: tensor([0.3039])\n"
     ]
    }
   ],
   "source": [
    "loader = torch.utils.data.DataLoader(val_dataset,\n",
    "                         batch_size=60,\n",
    "                         num_workers=0,\n",
    "                         shuffle=False)\n",
    "\n",
    "mean = 0.\n",
    "std = 0.\n",
    "for images, _ in loader:\n",
    "    batch_samples = images.size(0)\n",
    "    images = images.view(batch_samples, images.size(1), -1)\n",
    "    mean += images.mean(2).sum(0)\n",
    "    std += images.std(2).sum(0)\n",
    "\n",
    "mean /= len(loader.dataset)\n",
    "std /= len(loader.dataset)\n",
    "print(f'mean: {mean}, std: {std}')"
   ]
  },
  {
   "cell_type": "code",
   "execution_count": 8,
   "metadata": {
    "id": "Y46ETGgg5NoK"
   },
   "outputs": [],
   "source": [
    "train_transforms = torchvision.transforms.Compose([\n",
    "    torchvision.transforms.RandomResizedCrop(size=(28, 28), scale=(.5, 1.0), ratio=(.8, 1.25)),\n",
    "    torchvision.transforms.RandomRotation(degrees=30),\n",
    "    torchvision.transforms.ToTensor(),\n",
    "    torchvision.transforms.Normalize((0.1325,), (0.3039,))\n",
    "])\n",
    "\n",
    "val_transforms = torchvision.transforms.Compose([\n",
    "    torchvision.transforms.ToTensor(),\n",
    "    torchvision.transforms.Normalize((0.1325,), (0.3039,))\n",
    "])"
   ]
  },
  {
   "cell_type": "code",
   "execution_count": 9,
   "metadata": {
    "id": "EFefHycABXUU"
   },
   "outputs": [],
   "source": [
    "train_dataset = torchvision.datasets.MNIST(root='./mnist', \n",
    "                                           train=True, \n",
    "                                           download=True,\n",
    "                                           transform=train_transforms)\n",
    "\n",
    "val_dataset = torchvision.datasets.MNIST(root='./mnist', \n",
    "                                         train=False, \n",
    "                                         download=True, \n",
    "                                         transform=val_transforms)"
   ]
  },
  {
   "cell_type": "markdown",
   "metadata": {
    "id": "1eX48KOdBXUV"
   },
   "source": [
    "Перед тем как запускать обучение всегда стоит посмотреть на данные после предобработки, и удостовериться, что они соответствуют ожидаемым"
   ]
  },
  {
   "cell_type": "code",
   "execution_count": 10,
   "metadata": {
    "colab": {
     "base_uri": "https://localhost:8080/",
     "height": 1000
    },
    "id": "wcK7YEGjBXUW",
    "outputId": "08681399-e71c-4e6a-bbfc-172ebc8ad293"
   },
   "outputs": [
    {
     "data": {
      "image/png": "[encoded data removed]",
      "text/plain": [
       "<Figure size 2304x2304 with 16 Axes>"
      ]
     },
     "metadata": {
      "needs_background": "light",
      "tags": []
     },
     "output_type": "display_data"
    }
   ],
   "source": [
    "indices = np.random.randint(0, len(train_dataset), size=16)\n",
    "\n",
    "fig, axes = plt.subplots(nrows=4, ncols=4, figsize=(32, 32))\n",
    "for i, row in enumerate(axes):\n",
    "    for j, ax in enumerate(row):\n",
    "        sample_index = indices[i*4+j]\n",
    "        sample, label = train_dataset[sample_index]\n",
    "        ax.imshow(sample.cpu().numpy().transpose(1, 2, 0).reshape(28,28))\n",
    "        ax.set_title(label)"
   ]
  },
  {
   "cell_type": "markdown",
   "metadata": {
    "id": "VLezyIOZBXUY"
   },
   "source": [
    "### Обучение модели\n",
    "\n",
    "Теперь, когда мы реализовали модель и подготовили данные мы можем приступить к непосредственному обучению модели. Костяк функции обучения написан ниже, далее вы должны будете реализовать ключевые части этого алгоритма"
   ]
  },
  {
   "cell_type": "code",
   "execution_count": 11,
   "metadata": {
    "id": "4xyBUFuOBXUZ"
   },
   "outputs": [],
   "source": [
    "def seed_worker(worker_id=0):\n",
    "    worker_seed = torch.initial_seed() % 2**32\n",
    "    numpy.random.seed(worker_seed)\n",
    "    random.seed(worker_seed)"
   ]
  },
  {
   "cell_type": "code",
   "execution_count": 12,
   "metadata": {
    "id": "6l1ni-bnBXUh"
   },
   "outputs": [],
   "source": [
    "def train_model(model: torch.nn.Module, \n",
    "                train_dataset: torch.utils.data.Dataset,\n",
    "                val_dataset: torch.utils.data.Dataset,\n",
    "                loss_function: torch.nn.Module = torch.nn.CrossEntropyLoss(),\n",
    "                optimizer_class: Type[torch.optim.Optimizer] = torch.optim,\n",
    "                optimizer_params: Dict = {},\n",
    "                initial_lr = 0.001,\n",
    "                lr_scheduler_class: Any = torch.optim.lr_scheduler.ReduceLROnPlateau,\n",
    "                lr_scheduler_params: Dict = {},\n",
    "                batch_size = 64,\n",
    "                max_epochs = 30,\n",
    "                early_stopping_patience = 5):\n",
    "    optimizer = torch.optim.Adam(model.parameters(), lr=initial_lr, **optimizer_params)\n",
    "    lr_scheduler = lr_scheduler_class(optimizer, **lr_scheduler_params)\n",
    "    \n",
    "    train_loader = torch.utils.data.DataLoader(train_dataset, shuffle=True, batch_size=batch_size, worker_init_fn=seed_worker)\n",
    "    val_loader = torch.utils.data.DataLoader(val_dataset, batch_size=batch_size, worker_init_fn=seed_worker)\n",
    "\n",
    "    best_val_loss = None\n",
    "    best_epoch = None\n",
    "    \n",
    "    for epoch in range(max_epochs):\n",
    "        \n",
    "        print(f'Epoch {epoch}')\n",
    "        train_single_epoch(model, optimizer, loss_function, train_loader)\n",
    "        val_metrics = validate_single_epoch(model, loss_function, val_loader)\n",
    "        print(f'Validation metrics: \\n{val_metrics}')\n",
    "\n",
    "        lr_scheduler.step(val_metrics['loss'])\n",
    "        \n",
    "        if best_val_loss is None or best_val_loss > val_metrics['loss']:\n",
    "            print(f'Best model yet, saving')\n",
    "            best_val_loss = val_metrics['loss']\n",
    "            best_epoch = epoch\n",
    "            torch.save(model, './best_model.pth')\n",
    "            \n",
    "        if epoch - best_epoch > early_stopping_patience:\n",
    "            print('Early stopping triggered')\n",
    "            return"
   ]
  },
  {
   "cell_type": "markdown",
   "metadata": {
    "id": "6Ap2FMTkBXUi"
   },
   "source": [
    "### Задание 5\n",
    "\n",
    "Реализуйте функцию, производящую обучение сети на протяжении одной эпохи ( полного прохода по всей обучающей выборке ). На вход будет приходить модель, оптимизатор, функция потерь и объект типа `DataLoader`. При итерировании по `data_loader` вы будете получать пары вида ( данные, целевая_переменная )"
   ]
  },
  {
   "cell_type": "code",
   "execution_count": 13,
   "metadata": {
    "id": "gQye8GF6BXUj"
   },
   "outputs": [],
   "source": [
    "def train_single_epoch(model: torch.nn.Module,\n",
    "                       optimizer: torch.optim.Optimizer, \n",
    "                       loss_function: torch.nn.Module, \n",
    "                       data_loader: torch.utils.data.DataLoader):\n",
    "    model.train()\n",
    "    \n",
    "    # Initialize the loss function\n",
    "    loss_fn = loss_function\n",
    "    size = len(data_loader.dataset)\n",
    "    \n",
    "    for batch, (X, y) in enumerate(data_loader):\n",
    "        # Transfer to GPU\n",
    "        X, y = X.to(device), y.to(device)\n",
    "        # Compute prediction and loss\n",
    "        pred = model(X)\n",
    "        loss = loss_fn(pred, y)\n",
    "\n",
    "        # Backpropagation\n",
    "        optimizer.zero_grad()\n",
    "        loss.backward()\n",
    "        optimizer.step()\n",
    "        if batch % 100 == 0:\n",
    "            loss, current = loss.item(), batch * len(X)\n",
    "            print(f\"loss: {loss:>7f}  [{current:>5d}/{size:>5d}]\")"
   ]
  },
  {
   "cell_type": "markdown",
   "metadata": {
    "id": "V2Ik2SqvBXUl"
   },
   "source": [
    "### Задание 6\n",
    "\n",
    "Реализуйте функцию производящую вычисление функции потерь на валидационной выборке.  На вход будет приходить модель, функция потерь и `DataLoader`. На выходе ожидается словарь с вида:\n",
    "```\n",
    "{\n",
    "    'loss': <среднее значение функции потерь>,\n",
    "    'accuracy': <среднее значение точности модели>\n",
    "}\n",
    "```"
   ]
  },
  {
   "cell_type": "code",
   "execution_count": 14,
   "metadata": {
    "id": "tInjB_1zBXUm"
   },
   "outputs": [],
   "source": [
    "def validate_single_epoch(model: torch.nn.Module,\n",
    "                          loss_function: torch.nn.Module, \n",
    "                          data_loader: torch.utils.data.DataLoader):\n",
    "    model.eval()\n",
    "    size = len(data_loader.dataset)\n",
    "    test_loss, correct = 0, 0\n",
    "\n",
    "    with torch.no_grad():\n",
    "        for X, y in data_loader:\n",
    "            # Transfer to GPU\n",
    "            X, y = X.to(device), y.to(device)\n",
    "            pred = model(X)\n",
    "            test_loss += loss_fn(pred, y).item()\n",
    "            correct += (pred.argmax(1) == y).type(torch.float).sum().item()\n",
    "\n",
    "    test_loss /= size\n",
    "    correct /= size\n",
    "    print(f\"Test Error: \\n Accuracy: {(100*correct):>0.1f}%, Avg loss: {test_loss:>8f} \\n\")\n",
    "    return {'loss': test_loss, 'accuracy': correct}"
   ]
  },
  {
   "cell_type": "markdown",
   "metadata": {
    "id": "qHIiOc5JBXUn"
   },
   "source": [
    "Если вы корректно реализовали все предыдущие шаги и ваша модель имеет достаточное количество обучаемых параметров, то в следующей ячейке должен пойти процесс обучения, и мы должны достичь итоговой точности (в смысле меры accuracy, доли верных ответов) выше 90%"
   ]
  },
  {
   "cell_type": "code",
   "execution_count": 15,
   "metadata": {
    "colab": {
     "base_uri": "https://localhost:8080/"
    },
    "id": "fwSyd7MsERCV",
    "outputId": "92fd1888-da81-40c5-ea72-76156af94b87"
   },
   "outputs": [
    {
     "data": {
      "text/plain": [
       "device(type='cuda', index=0)"
      ]
     },
     "execution_count": 15,
     "metadata": {
      "tags": []
     },
     "output_type": "execute_result"
    }
   ],
   "source": [
    "use_gpu = True\n",
    "device = torch.device(\"cuda:0\" if use_gpu and torch.cuda.is_available() else \"cpu\")\n",
    "device"
   ]
  },
  {
   "cell_type": "code",
   "execution_count": 16,
   "metadata": {
    "id": "hDCjBe7_JvYT"
   },
   "outputs": [],
   "source": [
    "_ = model.to(device)"
   ]
  },
  {
   "cell_type": "code",
   "execution_count": 17,
   "metadata": {
    "colab": {
     "base_uri": "https://localhost:8080/"
    },
    "id": "nOoPZ0FYJxuH",
    "outputId": "8c4f7b70-fd1b-46e7-c947-31dd3887f17a"
   },
   "outputs": [
    {
     "name": "stdout",
     "output_type": "stream",
     "text": [
      "cuda:0\n"
     ]
    }
   ],
   "source": [
    "# Проверим, где располагаеются параметры модели.\n",
    "for param in model.parameters():\n",
    "    print(param.device)\n",
    "    break"
   ]
  },
  {
   "cell_type": "code",
   "execution_count": 18,
   "metadata": {
    "colab": {
     "base_uri": "https://localhost:8080/"
    },
    "id": "8KsSHjj7BXUo",
    "outputId": "d86abc55-0cfe-4a4b-fa9b-eb87662bde52"
   },
   "outputs": [
    {
     "name": "stdout",
     "output_type": "stream",
     "text": [
      "Epoch 0\n",
      "loss: 2.311900  [    0/60000]\n",
      "loss: 1.591312  [ 6400/60000]\n",
      "loss: 1.532025  [12800/60000]\n",
      "loss: 1.058578  [19200/60000]\n",
      "loss: 1.157490  [25600/60000]\n",
      "loss: 0.960833  [32000/60000]\n",
      "loss: 1.156425  [38400/60000]\n",
      "loss: 1.072036  [44800/60000]\n",
      "loss: 0.820143  [51200/60000]\n",
      "loss: 1.036511  [57600/60000]\n",
      "Test Error: \n",
      " Accuracy: 88.4%, Avg loss: 0.007224 \n",
      "\n",
      "Validation metrics: \n",
      "{'loss': 0.00722353859692812, 'accuracy': 0.8841}\n",
      "Best model yet, saving\n",
      "Epoch 1\n",
      "loss: 0.989248  [    0/60000]\n",
      "loss: 1.017144  [ 6400/60000]\n",
      "loss: 0.708193  [12800/60000]\n",
      "loss: 0.531791  [19200/60000]\n",
      "loss: 0.828382  [25600/60000]\n",
      "loss: 0.666529  [32000/60000]\n",
      "loss: 0.522393  [38400/60000]\n",
      "loss: 0.316670  [44800/60000]\n",
      "loss: 0.572585  [51200/60000]\n",
      "loss: 0.572360  [57600/60000]\n",
      "Test Error: \n",
      " Accuracy: 92.4%, Avg loss: 0.004527 \n",
      "\n",
      "Validation metrics: \n",
      "{'loss': 0.004527176919579506, 'accuracy': 0.9242}\n",
      "Best model yet, saving\n",
      "Epoch 2\n",
      "loss: 0.419897  [    0/60000]\n",
      "loss: 0.670132  [ 6400/60000]\n",
      "loss: 0.333631  [12800/60000]\n",
      "loss: 0.713658  [19200/60000]\n",
      "loss: 0.615919  [25600/60000]\n",
      "loss: 0.443814  [32000/60000]\n",
      "loss: 0.602141  [38400/60000]\n",
      "loss: 0.280330  [44800/60000]\n",
      "loss: 0.476613  [51200/60000]\n",
      "loss: 0.445727  [57600/60000]\n",
      "Test Error: \n",
      " Accuracy: 94.0%, Avg loss: 0.003595 \n",
      "\n",
      "Validation metrics: \n",
      "{'loss': 0.0035946448564529417, 'accuracy': 0.9399}\n",
      "Best model yet, saving\n",
      "Epoch 3\n",
      "loss: 0.354898  [    0/60000]\n",
      "loss: 0.388823  [ 6400/60000]\n",
      "loss: 0.380411  [12800/60000]\n",
      "loss: 0.326541  [19200/60000]\n",
      "loss: 0.340930  [25600/60000]\n",
      "loss: 0.293249  [32000/60000]\n",
      "loss: 0.284433  [38400/60000]\n",
      "loss: 0.426290  [44800/60000]\n",
      "loss: 0.325299  [51200/60000]\n",
      "loss: 0.329708  [57600/60000]\n",
      "Test Error: \n",
      " Accuracy: 94.5%, Avg loss: 0.003156 \n",
      "\n",
      "Validation metrics: \n",
      "{'loss': 0.003155699011683464, 'accuracy': 0.9454}\n",
      "Best model yet, saving\n",
      "Epoch 4\n",
      "loss: 0.296947  [    0/60000]\n",
      "loss: 0.404626  [ 6400/60000]\n",
      "loss: 0.215203  [12800/60000]\n",
      "loss: 0.364559  [19200/60000]\n",
      "loss: 0.345752  [25600/60000]\n",
      "loss: 0.390488  [32000/60000]\n",
      "loss: 0.362530  [38400/60000]\n",
      "loss: 0.350248  [44800/60000]\n",
      "loss: 0.441789  [51200/60000]\n",
      "loss: 0.464119  [57600/60000]\n",
      "Test Error: \n",
      " Accuracy: 94.8%, Avg loss: 0.002822 \n",
      "\n",
      "Validation metrics: \n",
      "{'loss': 0.002822378458827734, 'accuracy': 0.9484}\n",
      "Best model yet, saving\n",
      "Epoch 5\n",
      "loss: 0.421887  [    0/60000]\n",
      "loss: 0.290149  [ 6400/60000]\n",
      "loss: 0.229681  [12800/60000]\n",
      "loss: 0.248968  [19200/60000]\n",
      "loss: 0.313578  [25600/60000]\n",
      "loss: 0.203985  [32000/60000]\n",
      "loss: 0.341147  [38400/60000]\n",
      "loss: 0.387362  [44800/60000]\n",
      "loss: 0.225375  [51200/60000]\n",
      "loss: 0.408076  [57600/60000]\n",
      "Test Error: \n",
      " Accuracy: 95.7%, Avg loss: 0.002449 \n",
      "\n",
      "Validation metrics: \n",
      "{'loss': 0.0024492714448831974, 'accuracy': 0.9565}\n",
      "Best model yet, saving\n",
      "Epoch 6\n",
      "loss: 0.270552  [    0/60000]\n",
      "loss: 0.250184  [ 6400/60000]\n",
      "loss: 0.288448  [12800/60000]\n",
      "loss: 0.143283  [19200/60000]\n",
      "loss: 0.276898  [25600/60000]\n",
      "loss: 0.271044  [32000/60000]\n",
      "loss: 0.467720  [38400/60000]\n",
      "loss: 0.246767  [44800/60000]\n",
      "loss: 0.225023  [51200/60000]\n",
      "loss: 0.206950  [57600/60000]\n",
      "Test Error: \n",
      " Accuracy: 95.7%, Avg loss: 0.002368 \n",
      "\n",
      "Validation metrics: \n",
      "{'loss': 0.002368047823291272, 'accuracy': 0.9573}\n",
      "Best model yet, saving\n",
      "Epoch 7\n",
      "loss: 0.207210  [    0/60000]\n",
      "loss: 0.326333  [ 6400/60000]\n",
      "loss: 0.349948  [12800/60000]\n",
      "loss: 0.246720  [19200/60000]\n",
      "loss: 0.485944  [25600/60000]\n",
      "loss: 0.293990  [32000/60000]\n",
      "loss: 0.201251  [38400/60000]\n",
      "loss: 0.252643  [44800/60000]\n",
      "loss: 0.279233  [51200/60000]\n",
      "loss: 0.464538  [57600/60000]\n",
      "Test Error: \n",
      " Accuracy: 96.2%, Avg loss: 0.002104 \n",
      "\n",
      "Validation metrics: \n",
      "{'loss': 0.0021036352010443808, 'accuracy': 0.9615}\n",
      "Best model yet, saving\n",
      "Epoch 8\n",
      "loss: 0.333966  [    0/60000]\n",
      "loss: 0.243086  [ 6400/60000]\n",
      "loss: 0.334488  [12800/60000]\n",
      "loss: 0.231860  [19200/60000]\n",
      "loss: 0.271024  [25600/60000]\n",
      "loss: 0.265836  [32000/60000]\n",
      "loss: 0.208011  [38400/60000]\n",
      "loss: 0.296273  [44800/60000]\n",
      "loss: 0.273557  [51200/60000]\n",
      "loss: 0.216633  [57600/60000]\n",
      "Test Error: \n",
      " Accuracy: 96.5%, Avg loss: 0.001912 \n",
      "\n",
      "Validation metrics: \n",
      "{'loss': 0.001912222133949399, 'accuracy': 0.9646}\n",
      "Best model yet, saving\n",
      "Epoch 9\n",
      "loss: 0.260968  [    0/60000]\n",
      "loss: 0.143869  [ 6400/60000]\n",
      "loss: 0.306237  [12800/60000]\n",
      "loss: 0.284529  [19200/60000]\n",
      "loss: 0.293944  [25600/60000]\n",
      "loss: 0.440284  [32000/60000]\n",
      "loss: 0.343832  [38400/60000]\n",
      "loss: 0.336567  [44800/60000]\n",
      "loss: 0.300241  [51200/60000]\n",
      "loss: 0.262346  [57600/60000]\n",
      "Test Error: \n",
      " Accuracy: 96.8%, Avg loss: 0.001844 \n",
      "\n",
      "Validation metrics: \n",
      "{'loss': 0.0018439701641909778, 'accuracy': 0.9678}\n",
      "Best model yet, saving\n",
      "Epoch 10\n",
      "loss: 0.339953  [    0/60000]\n",
      "loss: 0.358896  [ 6400/60000]\n",
      "loss: 0.364942  [12800/60000]\n",
      "loss: 0.332097  [19200/60000]\n",
      "loss: 0.349307  [25600/60000]\n",
      "loss: 0.150596  [32000/60000]\n",
      "loss: 0.266901  [38400/60000]\n",
      "loss: 0.129745  [44800/60000]\n",
      "loss: 0.301566  [51200/60000]\n",
      "loss: 0.191284  [57600/60000]\n",
      "Test Error: \n",
      " Accuracy: 96.8%, Avg loss: 0.001740 \n",
      "\n",
      "Validation metrics: \n",
      "{'loss': 0.0017402451169211417, 'accuracy': 0.9683}\n",
      "Best model yet, saving\n",
      "Epoch 11\n",
      "loss: 0.201022  [    0/60000]\n",
      "loss: 0.241120  [ 6400/60000]\n",
      "loss: 0.173969  [12800/60000]\n",
      "loss: 0.183022  [19200/60000]\n",
      "loss: 0.230126  [25600/60000]\n",
      "loss: 0.297071  [32000/60000]\n",
      "loss: 0.134084  [38400/60000]\n",
      "loss: 0.278449  [44800/60000]\n",
      "loss: 0.138393  [51200/60000]\n",
      "loss: 0.194228  [57600/60000]\n",
      "Test Error: \n",
      " Accuracy: 97.0%, Avg loss: 0.001658 \n",
      "\n",
      "Validation metrics: \n",
      "{'loss': 0.0016582915200851857, 'accuracy': 0.9702}\n",
      "Best model yet, saving\n",
      "Epoch 12\n",
      "loss: 0.282912  [    0/60000]\n",
      "loss: 0.168701  [ 6400/60000]\n",
      "loss: 0.247969  [12800/60000]\n",
      "loss: 0.167340  [19200/60000]\n",
      "loss: 0.315540  [25600/60000]\n",
      "loss: 0.311875  [32000/60000]\n",
      "loss: 0.298343  [38400/60000]\n",
      "loss: 0.174866  [44800/60000]\n",
      "loss: 0.174606  [51200/60000]\n",
      "loss: 0.258296  [57600/60000]\n",
      "Test Error: \n",
      " Accuracy: 97.2%, Avg loss: 0.001531 \n",
      "\n",
      "Validation metrics: \n",
      "{'loss': 0.001530664836196229, 'accuracy': 0.9716}\n",
      "Best model yet, saving\n",
      "Epoch 13\n",
      "loss: 0.277594  [    0/60000]\n",
      "loss: 0.148556  [ 6400/60000]\n",
      "loss: 0.126089  [12800/60000]\n",
      "loss: 0.136666  [19200/60000]\n",
      "loss: 0.124010  [25600/60000]\n",
      "loss: 0.368375  [32000/60000]\n",
      "loss: 0.266253  [38400/60000]\n",
      "loss: 0.167915  [44800/60000]\n",
      "loss: 0.147084  [51200/60000]\n",
      "loss: 0.356499  [57600/60000]\n",
      "Test Error: \n",
      " Accuracy: 96.9%, Avg loss: 0.001591 \n",
      "\n",
      "Validation metrics: \n",
      "{'loss': 0.0015913721202872693, 'accuracy': 0.969}\n",
      "Epoch 14\n",
      "loss: 0.312922  [    0/60000]\n",
      "loss: 0.125470  [ 6400/60000]\n",
      "loss: 0.105251  [12800/60000]\n",
      "loss: 0.110995  [19200/60000]\n",
      "loss: 0.227153  [25600/60000]\n",
      "loss: 0.207851  [32000/60000]\n",
      "loss: 0.234179  [38400/60000]\n",
      "loss: 0.317186  [44800/60000]\n",
      "loss: 0.325856  [51200/60000]\n",
      "loss: 0.203381  [57600/60000]\n",
      "Test Error: \n",
      " Accuracy: 97.1%, Avg loss: 0.001516 \n",
      "\n",
      "Validation metrics: \n",
      "{'loss': 0.0015164957466069608, 'accuracy': 0.9713}\n",
      "Best model yet, saving\n",
      "Epoch 15\n",
      "loss: 0.257600  [    0/60000]\n",
      "loss: 0.161787  [ 6400/60000]\n",
      "loss: 0.449286  [12800/60000]\n",
      "loss: 0.147190  [19200/60000]\n",
      "loss: 0.110257  [25600/60000]\n",
      "loss: 0.166002  [32000/60000]\n",
      "loss: 0.260623  [38400/60000]\n",
      "loss: 0.112632  [44800/60000]\n",
      "loss: 0.118613  [51200/60000]\n",
      "loss: 0.287148  [57600/60000]\n",
      "Test Error: \n",
      " Accuracy: 96.9%, Avg loss: 0.001549 \n",
      "\n",
      "Validation metrics: \n",
      "{'loss': 0.0015492838101927192, 'accuracy': 0.9692}\n",
      "Epoch 16\n",
      "loss: 0.162439  [    0/60000]\n",
      "loss: 0.214065  [ 6400/60000]\n",
      "loss: 0.260681  [12800/60000]\n",
      "loss: 0.127067  [19200/60000]\n",
      "loss: 0.160919  [25600/60000]\n",
      "loss: 0.208817  [32000/60000]\n",
      "loss: 0.273218  [38400/60000]\n",
      "loss: 0.224989  [44800/60000]\n",
      "loss: 0.149858  [51200/60000]\n",
      "loss: 0.237289  [57600/60000]\n",
      "Test Error: \n",
      " Accuracy: 97.2%, Avg loss: 0.001444 \n",
      "\n",
      "Validation metrics: \n",
      "{'loss': 0.0014438691854011267, 'accuracy': 0.972}\n",
      "Best model yet, saving\n",
      "Epoch 17\n",
      "loss: 0.196063  [    0/60000]\n",
      "loss: 0.234836  [ 6400/60000]\n",
      "loss: 0.162829  [12800/60000]\n",
      "loss: 0.081008  [19200/60000]\n",
      "loss: 0.167115  [25600/60000]\n",
      "loss: 0.128013  [32000/60000]\n",
      "loss: 0.102853  [38400/60000]\n",
      "loss: 0.199718  [44800/60000]\n",
      "loss: 0.162843  [51200/60000]\n",
      "loss: 0.219089  [57600/60000]\n",
      "Test Error: \n",
      " Accuracy: 97.6%, Avg loss: 0.001268 \n",
      "\n",
      "Validation metrics: \n",
      "{'loss': 0.0012681756883161142, 'accuracy': 0.9759}\n",
      "Best model yet, saving\n",
      "Epoch 18\n",
      "loss: 0.111166  [    0/60000]\n",
      "loss: 0.138390  [ 6400/60000]\n",
      "loss: 0.188744  [12800/60000]\n",
      "loss: 0.131124  [19200/60000]\n",
      "loss: 0.121304  [25600/60000]\n",
      "loss: 0.160224  [32000/60000]\n",
      "loss: 0.137296  [38400/60000]\n",
      "loss: 0.245852  [44800/60000]\n",
      "loss: 0.198743  [51200/60000]\n",
      "loss: 0.217199  [57600/60000]\n",
      "Test Error: \n",
      " Accuracy: 97.4%, Avg loss: 0.001357 \n",
      "\n",
      "Validation metrics: \n",
      "{'loss': 0.0013568445925135166, 'accuracy': 0.9741}\n",
      "Epoch 19\n",
      "loss: 0.198616  [    0/60000]\n",
      "loss: 0.108158  [ 6400/60000]\n",
      "loss: 0.203457  [12800/60000]\n",
      "loss: 0.188091  [19200/60000]\n",
      "loss: 0.080005  [25600/60000]\n",
      "loss: 0.314449  [32000/60000]\n",
      "loss: 0.171814  [38400/60000]\n",
      "loss: 0.215903  [44800/60000]\n",
      "loss: 0.049516  [51200/60000]\n",
      "loss: 0.103882  [57600/60000]\n",
      "Test Error: \n",
      " Accuracy: 97.6%, Avg loss: 0.001207 \n",
      "\n",
      "Validation metrics: \n",
      "{'loss': 0.0012072456959169359, 'accuracy': 0.9764}\n",
      "Best model yet, saving\n",
      "Epoch 20\n",
      "loss: 0.208939  [    0/60000]\n",
      "loss: 0.248986  [ 6400/60000]\n",
      "loss: 0.245537  [12800/60000]\n",
      "loss: 0.165047  [19200/60000]\n",
      "loss: 0.129013  [25600/60000]\n",
      "loss: 0.120011  [32000/60000]\n",
      "loss: 0.168914  [38400/60000]\n",
      "loss: 0.325778  [44800/60000]\n",
      "loss: 0.133269  [51200/60000]\n",
      "loss: 0.234040  [57600/60000]\n",
      "Test Error: \n",
      " Accuracy: 97.8%, Avg loss: 0.001203 \n",
      "\n",
      "Validation metrics: \n",
      "{'loss': 0.001202596049022395, 'accuracy': 0.9775}\n",
      "Best model yet, saving\n",
      "Epoch 21\n",
      "loss: 0.188173  [    0/60000]\n",
      "loss: 0.255078  [ 6400/60000]\n",
      "loss: 0.143024  [12800/60000]\n",
      "loss: 0.144023  [19200/60000]\n",
      "loss: 0.178082  [25600/60000]\n",
      "loss: 0.287093  [32000/60000]\n",
      "loss: 0.047289  [38400/60000]\n",
      "loss: 0.131178  [44800/60000]\n",
      "loss: 0.228429  [51200/60000]\n",
      "loss: 0.197626  [57600/60000]\n",
      "Test Error: \n",
      " Accuracy: 97.3%, Avg loss: 0.001326 \n",
      "\n",
      "Validation metrics: \n",
      "{'loss': 0.0013258846783544868, 'accuracy': 0.9729}\n",
      "Epoch 22\n",
      "loss: 0.237632  [    0/60000]\n",
      "loss: 0.188908  [ 6400/60000]\n",
      "loss: 0.288313  [12800/60000]\n",
      "loss: 0.262293  [19200/60000]\n",
      "loss: 0.137378  [25600/60000]\n",
      "loss: 0.084357  [32000/60000]\n",
      "loss: 0.174176  [38400/60000]\n",
      "loss: 0.124336  [44800/60000]\n",
      "loss: 0.118011  [51200/60000]\n",
      "loss: 0.338359  [57600/60000]\n",
      "Test Error: \n",
      " Accuracy: 97.4%, Avg loss: 0.001275 \n",
      "\n",
      "Validation metrics: \n",
      "{'loss': 0.001274629667913541, 'accuracy': 0.9735}\n",
      "Epoch 23\n",
      "loss: 0.285345  [    0/60000]\n",
      "loss: 0.146643  [ 6400/60000]\n",
      "loss: 0.075124  [12800/60000]\n",
      "loss: 0.206753  [19200/60000]\n",
      "loss: 0.195880  [25600/60000]\n",
      "loss: 0.076886  [32000/60000]\n",
      "loss: 0.162637  [38400/60000]\n",
      "loss: 0.359213  [44800/60000]\n",
      "loss: 0.098915  [51200/60000]\n",
      "loss: 0.248477  [57600/60000]\n",
      "Test Error: \n",
      " Accuracy: 97.8%, Avg loss: 0.001130 \n",
      "\n",
      "Validation metrics: \n",
      "{'loss': 0.0011299827551469208, 'accuracy': 0.9782}\n",
      "Best model yet, saving\n",
      "Epoch 24\n",
      "loss: 0.112131  [    0/60000]\n",
      "loss: 0.069504  [ 6400/60000]\n",
      "loss: 0.159669  [12800/60000]\n",
      "loss: 0.351304  [19200/60000]\n",
      "loss: 0.431005  [25600/60000]\n",
      "loss: 0.321534  [32000/60000]\n",
      "loss: 0.307176  [38400/60000]\n",
      "loss: 0.104379  [44800/60000]\n",
      "loss: 0.107077  [51200/60000]\n",
      "loss: 0.115701  [57600/60000]\n",
      "Test Error: \n",
      " Accuracy: 97.5%, Avg loss: 0.001189 \n",
      "\n",
      "Validation metrics: \n",
      "{'loss': 0.0011888201252673752, 'accuracy': 0.9754}\n",
      "Epoch 25\n",
      "loss: 0.239820  [    0/60000]\n",
      "loss: 0.102402  [ 6400/60000]\n",
      "loss: 0.111588  [12800/60000]\n",
      "loss: 0.149915  [19200/60000]\n",
      "loss: 0.226778  [25600/60000]\n",
      "loss: 0.090272  [32000/60000]\n",
      "loss: 0.081657  [38400/60000]\n",
      "loss: 0.228360  [44800/60000]\n",
      "loss: 0.140519  [51200/60000]\n",
      "loss: 0.048915  [57600/60000]\n",
      "Test Error: \n",
      " Accuracy: 98.0%, Avg loss: 0.001004 \n",
      "\n",
      "Validation metrics: \n",
      "{'loss': 0.0010037547036423349, 'accuracy': 0.9803}\n",
      "Best model yet, saving\n",
      "Epoch 26\n",
      "loss: 0.114489  [    0/60000]\n",
      "loss: 0.163189  [ 6400/60000]\n",
      "loss: 0.069879  [12800/60000]\n",
      "loss: 0.041049  [19200/60000]\n",
      "loss: 0.131579  [25600/60000]\n",
      "loss: 0.092997  [32000/60000]\n",
      "loss: 0.196628  [38400/60000]\n",
      "loss: 0.121697  [44800/60000]\n",
      "loss: 0.122375  [51200/60000]\n",
      "loss: 0.073932  [57600/60000]\n",
      "Test Error: \n",
      " Accuracy: 98.1%, Avg loss: 0.001003 \n",
      "\n",
      "Validation metrics: \n",
      "{'loss': 0.0010029821416712365, 'accuracy': 0.9814}\n",
      "Best model yet, saving\n",
      "Epoch 27\n",
      "loss: 0.134783  [    0/60000]\n",
      "loss: 0.212953  [ 6400/60000]\n",
      "loss: 0.107359  [12800/60000]\n",
      "loss: 0.121175  [19200/60000]\n",
      "loss: 0.190829  [25600/60000]\n",
      "loss: 0.121192  [32000/60000]\n",
      "loss: 0.134928  [38400/60000]\n",
      "loss: 0.106480  [44800/60000]\n",
      "loss: 0.146675  [51200/60000]\n",
      "loss: 0.245473  [57600/60000]\n",
      "Test Error: \n",
      " Accuracy: 97.8%, Avg loss: 0.001111 \n",
      "\n",
      "Validation metrics: \n",
      "{'loss': 0.001111264981306158, 'accuracy': 0.9782}\n",
      "Epoch 28\n",
      "loss: 0.164335  [    0/60000]\n",
      "loss: 0.151255  [ 6400/60000]\n",
      "loss: 0.156210  [12800/60000]\n",
      "loss: 0.166200  [19200/60000]\n",
      "loss: 0.087027  [25600/60000]\n",
      "loss: 0.060593  [32000/60000]\n",
      "loss: 0.172714  [38400/60000]\n",
      "loss: 0.187246  [44800/60000]\n",
      "loss: 0.020123  [51200/60000]\n",
      "loss: 0.350633  [57600/60000]\n",
      "Test Error: \n",
      " Accuracy: 97.8%, Avg loss: 0.001148 \n",
      "\n",
      "Validation metrics: \n",
      "{'loss': 0.001148390410351567, 'accuracy': 0.9776}\n",
      "Epoch 29\n",
      "loss: 0.061301  [    0/60000]\n",
      "loss: 0.071249  [ 6400/60000]\n",
      "loss: 0.140600  [12800/60000]\n",
      "loss: 0.249663  [19200/60000]\n",
      "loss: 0.230174  [25600/60000]\n",
      "loss: 0.073449  [32000/60000]\n",
      "loss: 0.200382  [38400/60000]\n",
      "loss: 0.075118  [44800/60000]\n",
      "loss: 0.208806  [51200/60000]\n",
      "loss: 0.084611  [57600/60000]\n",
      "Test Error: \n",
      " Accuracy: 97.8%, Avg loss: 0.001055 \n",
      "\n",
      "Validation metrics: \n",
      "{'loss': 0.0010551146035897546, 'accuracy': 0.9784}\n"
     ]
    }
   ],
   "source": [
    "loss_fn = torch.nn.CrossEntropyLoss()\n",
    "train_model(model, \n",
    "            train_dataset=train_dataset, \n",
    "            val_dataset=val_dataset, \n",
    "            loss_function=torch.nn.CrossEntropyLoss(), \n",
    "            initial_lr=0.0001)"
   ]
  },
  {
   "cell_type": "markdown",
   "metadata": {
    "id": "TUZA1RscekXg"
   },
   "source": [
    "Проверим, действительно ли мы всё обучили и не обманывает ли наша выбранная метрика нас.     \n",
    "Для этого применим модель вручную на отдельном кусочке данных."
   ]
  },
  {
   "cell_type": "code",
   "execution_count": 19,
   "metadata": {
    "colab": {
     "base_uri": "https://localhost:8080/",
     "height": 299
    },
    "id": "5RrHBmhXdA3v",
    "outputId": "89553996-1001-477e-c7ad-68396bdbba3e"
   },
   "outputs": [
    {
     "name": "stdout",
     "output_type": "stream",
     "text": [
      "Predicted: \"7\", Actual: \"7\"\n"
     ]
    },
    {
     "data": {
      "text/plain": [
       "<matplotlib.image.AxesImage at 0x7f089abdc410>"
      ]
     },
     "execution_count": 19,
     "metadata": {
      "tags": []
     },
     "output_type": "execute_result"
    },
    {
     "data": {
      "image/png": "[encoded data removed]",
      "text/plain": [
       "<Figure size 432x288 with 1 Axes>"
      ]
     },
     "metadata": {
      "needs_background": "light",
      "tags": []
     },
     "output_type": "display_data"
    }
   ],
   "source": [
    "model.eval()\n",
    "x, y = val_dataset[0][0].to(device), val_dataset[0][1]\n",
    "with torch.no_grad():\n",
    "    pred = model(x)\n",
    "    predicted, actual = np.argmax(pred.cpu()), y\n",
    "    print(f'Predicted: \"{predicted}\", Actual: \"{actual}\"')\n",
    "plt.imshow(val_dataset[0][0][0])"
   ]
  },
  {
   "cell_type": "markdown",
   "metadata": {
    "id": "IPTiidoFBXUp"
   },
   "source": [
    "### Задание 7\n",
    "\n",
    "Модифицируйте процесс обучения таким образом, чтобы достигнуть наилучшего качества на валидационной выборке. Модель должна оставаться N-слойным перцептроном с количеством обучаемых параметров <= 500000. Для обучения разрешается использовать только набор данных MNIST. Процесс обучения вы можете изменять по собственному усмотрению. К примеру, вы можете менять:\n",
    "\n",
    "* Архитектуру модели в рамках наложенных ограничений на количество параметров и вид архитектуры (многослойный перцептрон)\n",
    "* Функции активации в модели\n",
    "* Используемый оптимизатор\n",
    "* Расписание шага оптимизации\n",
    "* Сэмплинг данных при обучении ( e.g. hard negative mining)\n",
    "\n",
    "В результате мы ожидаем увидеть код экспериментов и любые инсайты, которые вы сможете получить в процессе"
   ]
  },
  {
   "cell_type": "markdown",
   "metadata": {
    "id": "AN-0xfiT7NXT"
   },
   "source": [
    "**Ответ**    \n",
    "Выше можно наблюдать результат анализа возможных сочетаний параметров модели и обработки данных, который сочетает в себе высокую точность и малое количество итераций, за которое он приходит к этой точности. В основном цикле не был использован модуль tqdm как раз с целью показать, что уже за одну эпоху работы модели достигается точность ~90%. За 30 эпох точность доходит до 97.8%.     \n",
    "<u> Конечные параметры:</u>    \n",
    "Модель: `(784,256,256,10)` with ReLU  \n",
    "Оптимизатор: `Adam`   \n",
    "Расписание learning rate: `ReduceLROnPlateau`\n",
    "\n",
    "Наблюдения в ходе экспериментирования с параметрами: \n",
    "* В ходе работы были проверены архитектурные композиции\n",
    "                                  точность\n",
    "          композиция    | на 1 эпохе | на 10 эпохе \n",
    "          with ReLU\n",
    "      (784,256,256,10)  |     88%    |   97%\n",
    "      (784,256,10)      |     86%    |   96%                 \n",
    "      (784,512,128,10)  |     83%    |   88%    \n",
    "      (784,10)          |     75%    |   81%\n",
    "\n",
    "          with GELU\n",
    "      (784,256,256,10)  |     89%    |   97%       \n",
    "* Оставяя прочие параметры прежними и заменяя оптимизатор на `SGD`, скорость схождения модели уменьшится в разы: результат первой эпохи 13% accuracy, к десятой монотонно повышается до 37%. Как и ожидалось использование `Nesterov momentum` со значением `momentum`=0.9 значительно ускоряет схождение SGD, хотя всё ещё значительно проигрывает `Adam`. Результат первой эпохи: 36%, десятой эпохи: 81%  \n",
    "* Легкие изменения/добавления аугментаций и обработок данных (например удаление нормализации данных, использование блюра) меняют скорость обучения не слишком сильно. Точность на каждом из поколений меняется в размере около 2%.   \n",
    "* Однако можно приветси пример, как можно сломать обучение, использовав аугментации без должной осторожности,  - поставить в аугментацию вращение на угол 180 градусов. Это сильно замедляет обучение, потому что в тренировочной выборке теперь много объектов, которых нет в тестовой и стирает границу между 6-кой и 9-кой. Как итог - 53% на первой и 78% точности на десятой эпохе (при этом выше 80% точность уже не повышалась на протяжении 15 дополнительных эпох, так что какие-то ещё классы оказались частично совмещены в результате этой аугментации).  \n",
    "* Такие расписания изменения learning rate, как `CosineAnnealingLR` и `MultiplicativeLR` дали такой же результат как и `ReduceLROnPlateau`. Можно предположить, что основной вклад в быструю сходимость даёт как раз использование оптимизатора `Adam`, и перформанс расписаний необходимо проверять с использованием какого-то иного оптимизатора.\n",
    "* Использование hard negative mining счёл в рамках данной задачи избыточным, мне кажется он больше применим, когда мы хотим определить конкретный frame, где находится классифицируемый нами объект, кроме того, высокая точность достигается и без его использования.\n",
    "* Визуализация с помощью TensorBoard была проведена в отдельном ноутбуке, тч опыт работы с ним тоже был получен.\n",
    "* Better late than never.\n",
    "\n",
    "     "
   ]
  },
  {
   "cell_type": "code",
   "execution_count": 19,
   "metadata": {
    "id": "wpFVv_ZMy-5H"
   },
   "outputs": [],
   "source": []
  }
 ],
 "metadata": {
  "accelerator": "GPU",
  "colab": {
   "collapsed_sections": [],
   "name": "HW03.ipynb",
   "provenance": []
  },
  "kernelspec": {
   "display_name": "Python 3",
   "language": "python",
   "name": "python3"
  },
  "language_info": {
   "codemirror_mode": {
    "name": "ipython",
    "version": 3
   },
   "file_extension": ".py",
   "mimetype": "text/x-python",
   "name": "python",
   "nbconvert_exporter": "python",
   "pygments_lexer": "ipython3",
   "version": "3.7.3"
  }
 },
 "nbformat": 4,
 "nbformat_minor": 1
}
