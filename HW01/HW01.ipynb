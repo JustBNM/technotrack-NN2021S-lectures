{
 "cells": [
  {
   "cell_type": "markdown",
   "metadata": {},
   "source": [
    "# ДЗ №1 - обучение модели линейной регресии методом градиентного спуска"
   ]
  },
  {
   "cell_type": "markdown",
   "metadata": {},
   "source": [
    "Реализовать обучение модели линейной регрессии методом градиентного спуска.<br />\n",
    "\n",
    "В качестве подводящего упражнения в этом задании предлагается реализовать функции потерь и саму модель линейной регрессии в манере, схожей с построением модулей фреймворка pytorch (см. пояснения в шаблонах кода)\n",
    "\n",
    "В решении ожидается наличие следующих ключевых составляющих:<br />\n",
    "\n",
    "#### Текстовое описание в решении:\n",
    "- формулировка задачи, формулировка признакового описания объектов, формулировка функции ошибки, формулировка меры качества модели;\n",
    "- исследование исходных данных на предмет скоррелированности признаков; фильтрация признаков; порождение признаков (при необходимости);\n",
    "- оценка параметров модели линейной регрессии (обучение модели) методом градиентного спуска;\n",
    "- оценка качества модели на валидационной выборке.\n",
    "\n",
    "#### Код решения:\n",
    "(используйте предлагаемые шаблоны)\n",
    "- формулировка модели линейной регрессии;\n",
    "- формулировка функции ошибки;\n",
    "- формулировка метрики (метрик);\n",
    "- формулировка цикла оптимизации параметров.\n",
    "\n",
    "\n",
    "#### Визуализация в решении:\n",
    "- распределение признаков;\n",
    "- распределение целевой переменной;\n",
    "- эволюция функции ошибки и выбранных метрик качества по ходу обучения.\n",
    "\n",
    "#### Выводы (в форме текста!)\n",
    "- вывод о том, насколько модель подходит для описания данных\n",
    "- вывод о достаточности или избыточности данных для оценки параметров модели\n",
    "- вывод о соотношении выразительности модели и ее обобщающей способности (наблюдаются ли явления переобучения или недообучения).\n",
    "\n",
    "Примечания:<br />\n",
    "Допустимо порождение признаков (полиномиальных, экспоненциальных, логарифмических, etc.)<br />\n",
    "Реализация линейной регрессии может быть написана только с использованием библиотеки Numpy. Решения с использованием библиотек автоматического вычисления градиентов не засчитываются.<br />\n",
    "Из готовых реализаций (напр., из пакета scikit-learn) в этом задании допускается использовать только порождение полиномиальных признаков `PolynomialFeatures`."
   ]
  },
  {
   "cell_type": "raw",
   "metadata": {},
   "source": []
  },
  {
   "cell_type": "markdown",
   "metadata": {},
   "source": [
    "Данные находятся в следующих файлах:\n",
    "\n",
    "Признаковое описание объектов обучающей выборки - в файле X_train.npy\n",
    "\n",
    "Значения целевой переменной на обучающей выборке - в файле y_train.npy"
   ]
  },
  {
   "cell_type": "markdown",
   "metadata": {},
   "source": [
    "Способ чтения данных из файлов *.npy :\n",
    "\n",
    "```\n",
    "import numpy as np\n",
    "data = np.load('/path/to/filename.npy')\n",
    "```"
   ]
  },
  {
   "cell_type": "raw",
   "metadata": {},
   "source": []
  },
  {
   "cell_type": "markdown",
   "metadata": {},
   "source": [
    "### Примечание на предмет реализации градиента функции потерь\n",
    "\n",
    "Нелишним будет вспомнить способ вычисления градиента сложной функции. Здесь функция ошибки (обозначено как $\\mathscr{L}$) представлена как сложная функция $\\mathscr{L}\\left( G\\left( \\theta \\right) \\right)$. Для простоты приведена сразу матричная запись.\n",
    "\n",
    "$$\n",
    "\\nabla_{\\theta}{\\mathscr{L}} = \\nabla_{\\theta}{G}\\cdot\\left(\\nabla_{G}{\\mathscr{L}}\\right)\n",
    "$$\n",
    "\n",
    "В качестве шпаргалки можно подсмотреть правила матричного дифференцирования <a href=\"https://www.math.uwaterloo.ca/~hwolkowi/matrixcookbook.pdf\">здесь</a>\n",
    "\n",
    "Например, в случае функции потерь MSE это может выглядеть следующим образом:\n",
    "\n",
    "$$\n",
    "\\nabla_{\\theta}{\\mathscr{L}} = X^T\\cdot2\\left(X\\theta - Y\\right)\n",
    "$$\n",
    "\n",
    "\n",
    "При этом логически имеет смысл реализовать компоненту градиента, относящуюся собственно к функции потерь $\\nabla_{G}{\\mathscr{L}}$ - в коде класса функции потерь, а компоненту, относящуюся к модели $\\nabla_{\\theta}{G}$ - в коде модели.\n",
    "\n",
    "Именно поэтому классы `loss` и `linear_regression` в предложенном шаблоне реализованы наследующими `Differentiable` - для общности восприятия этих модулей как дифференцируемых по своим аргументам."
   ]
  },
  {
   "cell_type": "markdown",
   "metadata": {},
   "source": [
    "-------------------------------------------------"
   ]
  },
  {
   "cell_type": "markdown",
   "metadata": {},
   "source": [
    "# Решение"
   ]
  },
  {
   "cell_type": "markdown",
   "metadata": {},
   "source": [
    "## Постановка задачи"
   ]
  },
  {
   "cell_type": "markdown",
   "metadata": {},
   "source": [
    "Стоит задача предсказать значение (свойство) на основе набора признаков у ряда объектов.    \n",
    "Для решения этой задачи используем модель регрессию.   \n",
    "В качестве функции потерь берем MSE.    \n",
    "Меру качества модели, которую будем оценивать с помощью валидационной выборки берём ту же, что и для обучения - MSE.    \n",
    "Реализуем цикл оптимизации параметров следующим образом:   \n",
    "1. Выбираем начальное значение весов(theta)  \n",
    "2. Используем данное значение весов, чтобы найти y_pred   \n",
    "3. Находим градиент функции потерь в пространстве коэффициентов, как градиент сложной функции, с помощью y_pred и y_test, в две итерации:\n",
    "    * градиент линейной регрессии\n",
    "    * градиент собственно функции потерь\n",
    "4. Меняем веса в соответсвии со значением градиента. Скорость изменения регулируется с помощью значения alpha - шага, меньше либо равного 1.\n",
    "5. Переходим к шагу 2, пока не пройдёт заданное количество циклов."
   ]
  },
  {
   "cell_type": "markdown",
   "metadata": {},
   "source": [
    "## Препроцессинг"
   ]
  },
  {
   "cell_type": "code",
   "execution_count": 1,
   "metadata": {},
   "outputs": [],
   "source": [
    "import numpy as np\n",
    "from tqdm import tqdm"
   ]
  },
  {
   "cell_type": "code",
   "execution_count": 2,
   "metadata": {},
   "outputs": [],
   "source": [
    "#%matplotlib inline"
   ]
  },
  {
   "cell_type": "code",
   "execution_count": 3,
   "metadata": {},
   "outputs": [],
   "source": [
    "import seaborn as sns\n",
    "import pandas as pd"
   ]
  },
  {
   "cell_type": "code",
   "execution_count": 4,
   "metadata": {},
   "outputs": [],
   "source": [
    "import matplotlib.pyplot as plt"
   ]
  },
  {
   "cell_type": "code",
   "execution_count": 5,
   "metadata": {},
   "outputs": [],
   "source": [
    "from sklearn.model_selection import train_test_split\n",
    "from sklearn.preprocessing import PolynomialFeatures, StandardScaler"
   ]
  },
  {
   "cell_type": "code",
   "execution_count": 6,
   "metadata": {},
   "outputs": [],
   "source": [
    "Xtr = np.load('./X_train.npy')\n",
    "ytr = np.load('./y_train.npy')"
   ]
  },
  {
   "cell_type": "markdown",
   "metadata": {},
   "source": [
    "Для начала стоит понять, что за данные, с которыми мы будем работать, каковы их распределения, какую размерность они имеют и коррелируют ли между собой. Для этого воспользуемся инструментарием seaplot и построим гистограммы. "
   ]
  },
  {
   "cell_type": "code",
   "execution_count": 7,
   "metadata": {},
   "outputs": [
    {
     "data": {
      "text/plain": [
       "<seaborn.axisgrid.PairGrid at 0x7efbced32e48>"
      ]
     },
     "execution_count": 7,
     "metadata": {},
     "output_type": "execute_result"
    },
    {
     "data": {
      "image/png": "[encoded data removed]",
      "text/plain": [
       "<Figure size 720x720 with 20 Axes>"
      ]
     },
     "metadata": {
      "needs_background": "light"
     },
     "output_type": "display_data"
    }
   ],
   "source": [
    "sns.pairplot(pd.DataFrame(Xtr))"
   ]
  },
  {
   "cell_type": "markdown",
   "metadata": {},
   "source": [
    "Уже визуально можно отметить, что второй признак дублирует первый, чтобы удостовериться в этом построим матрицу корреляций:"
   ]
  },
  {
   "cell_type": "code",
   "execution_count": 8,
   "metadata": {},
   "outputs": [
    {
     "data": {
      "text/plain": [
       "array([[1.        , 0.99930832, 0.00924955, 0.88100664],\n",
       "       [0.99930832, 1.        , 0.0096915 , 0.88030952],\n",
       "       [0.00924955, 0.0096915 , 1.        , 0.01899396],\n",
       "       [0.88100664, 0.88030952, 0.01899396, 1.        ]])"
      ]
     },
     "execution_count": 8,
     "metadata": {},
     "output_type": "execute_result"
    }
   ],
   "source": [
    "np.corrcoef(Xtr.T)"
   ]
  },
  {
   "cell_type": "markdown",
   "metadata": {},
   "source": [
    "Видно, что второй признак очень сильно скореллирован с первым, таким образом, он не несет в себе много новой информации и мы можем его отбросить."
   ]
  },
  {
   "cell_type": "code",
   "execution_count": 9,
   "metadata": {},
   "outputs": [],
   "source": [
    "Xtr=np.delete(Xtr.T, [1],axis = 0).T"
   ]
  },
  {
   "cell_type": "markdown",
   "metadata": {},
   "source": [
    "Проверим объекты на наличие избыточных, дублирующих элементов      \n",
    "Наличие данных элементов может помешать работе алгоритма, если в одну из выборок попадёт много похожих элементов, а в другой их не будет."
   ]
  },
  {
   "cell_type": "code",
   "execution_count": 48,
   "metadata": {
    "scrolled": true
   },
   "outputs": [
    {
     "data": {
      "text/html": [
       "<div>\n",
       "<style scoped>\n",
       "    .dataframe tbody tr th:only-of-type {\n",
       "        vertical-align: middle;\n",
       "    }\n",
       "\n",
       "    .dataframe tbody tr th {\n",
       "        vertical-align: top;\n",
       "    }\n",
       "\n",
       "    .dataframe thead th {\n",
       "        text-align: right;\n",
       "    }\n",
       "</style>\n",
       "<table border=\"1\" class=\"dataframe\">\n",
       "  <thead>\n",
       "    <tr style=\"text-align: right;\">\n",
       "      <th></th>\n",
       "      <th>0</th>\n",
       "      <th>1</th>\n",
       "      <th>2</th>\n",
       "      <th>3</th>\n",
       "    </tr>\n",
       "  </thead>\n",
       "  <tbody>\n",
       "    <tr>\n",
       "      <th>0</th>\n",
       "      <td>-1.38</td>\n",
       "      <td>1.90</td>\n",
       "      <td>-2.63</td>\n",
       "      <td>2.47</td>\n",
       "    </tr>\n",
       "    <tr>\n",
       "      <th>1</th>\n",
       "      <td>-5.41</td>\n",
       "      <td>29.29</td>\n",
       "      <td>-158.48</td>\n",
       "      <td>10.00</td>\n",
       "    </tr>\n",
       "    <tr>\n",
       "      <th>2</th>\n",
       "      <td>-4.30</td>\n",
       "      <td>18.49</td>\n",
       "      <td>-79.50</td>\n",
       "      <td>9.28</td>\n",
       "    </tr>\n",
       "    <tr>\n",
       "      <th>3</th>\n",
       "      <td>-6.01</td>\n",
       "      <td>36.06</td>\n",
       "      <td>-216.56</td>\n",
       "      <td>8.63</td>\n",
       "    </tr>\n",
       "    <tr>\n",
       "      <th>4</th>\n",
       "      <td>-6.42</td>\n",
       "      <td>41.22</td>\n",
       "      <td>-264.65</td>\n",
       "      <td>9.57</td>\n",
       "    </tr>\n",
       "    <tr>\n",
       "      <th>5</th>\n",
       "      <td>-4.24</td>\n",
       "      <td>17.96</td>\n",
       "      <td>-76.12</td>\n",
       "      <td>8.30</td>\n",
       "    </tr>\n",
       "    <tr>\n",
       "      <th>6</th>\n",
       "      <td>-5.45</td>\n",
       "      <td>29.65</td>\n",
       "      <td>-161.45</td>\n",
       "      <td>11.06</td>\n",
       "    </tr>\n",
       "    <tr>\n",
       "      <th>7</th>\n",
       "      <td>-6.27</td>\n",
       "      <td>39.26</td>\n",
       "      <td>-246.03</td>\n",
       "      <td>10.75</td>\n",
       "    </tr>\n",
       "    <tr>\n",
       "      <th>8</th>\n",
       "      <td>-0.39</td>\n",
       "      <td>0.15</td>\n",
       "      <td>-0.06</td>\n",
       "      <td>0.10</td>\n",
       "    </tr>\n",
       "    <tr>\n",
       "      <th>9</th>\n",
       "      <td>-6.78</td>\n",
       "      <td>46.02</td>\n",
       "      <td>-312.15</td>\n",
       "      <td>7.87</td>\n",
       "    </tr>\n",
       "    <tr>\n",
       "      <th>10</th>\n",
       "      <td>-6.17</td>\n",
       "      <td>38.03</td>\n",
       "      <td>-234.56</td>\n",
       "      <td>8.84</td>\n",
       "    </tr>\n",
       "    <tr>\n",
       "      <th>11</th>\n",
       "      <td>-5.08</td>\n",
       "      <td>25.86</td>\n",
       "      <td>-131.47</td>\n",
       "      <td>9.81</td>\n",
       "    </tr>\n",
       "    <tr>\n",
       "      <th>12</th>\n",
       "      <td>-5.95</td>\n",
       "      <td>35.36</td>\n",
       "      <td>-210.30</td>\n",
       "      <td>9.04</td>\n",
       "    </tr>\n",
       "    <tr>\n",
       "      <th>13</th>\n",
       "      <td>-5.34</td>\n",
       "      <td>28.53</td>\n",
       "      <td>-152.39</td>\n",
       "      <td>9.30</td>\n",
       "    </tr>\n",
       "    <tr>\n",
       "      <th>14</th>\n",
       "      <td>-8.82</td>\n",
       "      <td>77.83</td>\n",
       "      <td>-686.69</td>\n",
       "      <td>-2.12</td>\n",
       "    </tr>\n",
       "    <tr>\n",
       "      <th>15</th>\n",
       "      <td>-7.57</td>\n",
       "      <td>57.30</td>\n",
       "      <td>-433.71</td>\n",
       "      <td>4.79</td>\n",
       "    </tr>\n",
       "    <tr>\n",
       "      <th>16</th>\n",
       "      <td>-5.01</td>\n",
       "      <td>25.08</td>\n",
       "      <td>-125.61</td>\n",
       "      <td>10.22</td>\n",
       "    </tr>\n",
       "    <tr>\n",
       "      <th>17</th>\n",
       "      <td>-3.31</td>\n",
       "      <td>10.97</td>\n",
       "      <td>-36.34</td>\n",
       "      <td>6.22</td>\n",
       "    </tr>\n",
       "    <tr>\n",
       "      <th>18</th>\n",
       "      <td>-8.83</td>\n",
       "      <td>78.01</td>\n",
       "      <td>-688.98</td>\n",
       "      <td>-1.93</td>\n",
       "    </tr>\n",
       "    <tr>\n",
       "      <th>19</th>\n",
       "      <td>-2.75</td>\n",
       "      <td>7.59</td>\n",
       "      <td>-20.89</td>\n",
       "      <td>6.19</td>\n",
       "    </tr>\n",
       "    <tr>\n",
       "      <th>20</th>\n",
       "      <td>-6.83</td>\n",
       "      <td>46.61</td>\n",
       "      <td>-318.19</td>\n",
       "      <td>7.42</td>\n",
       "    </tr>\n",
       "    <tr>\n",
       "      <th>21</th>\n",
       "      <td>-8.13</td>\n",
       "      <td>66.07</td>\n",
       "      <td>-537.05</td>\n",
       "      <td>2.95</td>\n",
       "    </tr>\n",
       "    <tr>\n",
       "      <th>22</th>\n",
       "      <td>-5.84</td>\n",
       "      <td>34.13</td>\n",
       "      <td>-199.36</td>\n",
       "      <td>9.15</td>\n",
       "    </tr>\n",
       "    <tr>\n",
       "      <th>23</th>\n",
       "      <td>-6.10</td>\n",
       "      <td>37.27</td>\n",
       "      <td>-227.50</td>\n",
       "      <td>10.73</td>\n",
       "    </tr>\n",
       "    <tr>\n",
       "      <th>24</th>\n",
       "      <td>-6.58</td>\n",
       "      <td>43.34</td>\n",
       "      <td>-285.29</td>\n",
       "      <td>8.29</td>\n",
       "    </tr>\n",
       "    <tr>\n",
       "      <th>25</th>\n",
       "      <td>-10.35</td>\n",
       "      <td>107.05</td>\n",
       "      <td>-1107.64</td>\n",
       "      <td>-19.49</td>\n",
       "    </tr>\n",
       "    <tr>\n",
       "      <th>26</th>\n",
       "      <td>-5.77</td>\n",
       "      <td>33.25</td>\n",
       "      <td>-191.69</td>\n",
       "      <td>9.55</td>\n",
       "    </tr>\n",
       "    <tr>\n",
       "      <th>27</th>\n",
       "      <td>-5.34</td>\n",
       "      <td>28.55</td>\n",
       "      <td>-152.59</td>\n",
       "      <td>10.21</td>\n",
       "    </tr>\n",
       "    <tr>\n",
       "      <th>28</th>\n",
       "      <td>-4.29</td>\n",
       "      <td>18.40</td>\n",
       "      <td>-78.91</td>\n",
       "      <td>8.31</td>\n",
       "    </tr>\n",
       "    <tr>\n",
       "      <th>29</th>\n",
       "      <td>-4.50</td>\n",
       "      <td>20.22</td>\n",
       "      <td>-90.95</td>\n",
       "      <td>9.03</td>\n",
       "    </tr>\n",
       "    <tr>\n",
       "      <th>...</th>\n",
       "      <td>...</td>\n",
       "      <td>...</td>\n",
       "      <td>...</td>\n",
       "      <td>...</td>\n",
       "    </tr>\n",
       "    <tr>\n",
       "      <th>9970</th>\n",
       "      <td>5.50</td>\n",
       "      <td>30.22</td>\n",
       "      <td>166.14</td>\n",
       "      <td>20.82</td>\n",
       "    </tr>\n",
       "    <tr>\n",
       "      <th>9971</th>\n",
       "      <td>3.70</td>\n",
       "      <td>13.69</td>\n",
       "      <td>50.68</td>\n",
       "      <td>3.85</td>\n",
       "    </tr>\n",
       "    <tr>\n",
       "      <th>9972</th>\n",
       "      <td>5.15</td>\n",
       "      <td>26.53</td>\n",
       "      <td>136.66</td>\n",
       "      <td>17.07</td>\n",
       "    </tr>\n",
       "    <tr>\n",
       "      <th>9973</th>\n",
       "      <td>6.65</td>\n",
       "      <td>44.20</td>\n",
       "      <td>293.88</td>\n",
       "      <td>37.33</td>\n",
       "    </tr>\n",
       "    <tr>\n",
       "      <th>9974</th>\n",
       "      <td>4.77</td>\n",
       "      <td>22.79</td>\n",
       "      <td>108.78</td>\n",
       "      <td>12.67</td>\n",
       "    </tr>\n",
       "    <tr>\n",
       "      <th>9975</th>\n",
       "      <td>4.13</td>\n",
       "      <td>17.10</td>\n",
       "      <td>70.69</td>\n",
       "      <td>6.73</td>\n",
       "    </tr>\n",
       "    <tr>\n",
       "      <th>9976</th>\n",
       "      <td>6.66</td>\n",
       "      <td>44.37</td>\n",
       "      <td>295.57</td>\n",
       "      <td>37.97</td>\n",
       "    </tr>\n",
       "    <tr>\n",
       "      <th>9977</th>\n",
       "      <td>6.16</td>\n",
       "      <td>37.91</td>\n",
       "      <td>233.38</td>\n",
       "      <td>28.71</td>\n",
       "    </tr>\n",
       "    <tr>\n",
       "      <th>9978</th>\n",
       "      <td>5.28</td>\n",
       "      <td>27.85</td>\n",
       "      <td>146.97</td>\n",
       "      <td>17.69</td>\n",
       "    </tr>\n",
       "    <tr>\n",
       "      <th>9979</th>\n",
       "      <td>5.87</td>\n",
       "      <td>34.49</td>\n",
       "      <td>202.59</td>\n",
       "      <td>26.10</td>\n",
       "    </tr>\n",
       "    <tr>\n",
       "      <th>9980</th>\n",
       "      <td>2.82</td>\n",
       "      <td>7.95</td>\n",
       "      <td>22.43</td>\n",
       "      <td>0.15</td>\n",
       "    </tr>\n",
       "    <tr>\n",
       "      <th>9981</th>\n",
       "      <td>5.82</td>\n",
       "      <td>33.88</td>\n",
       "      <td>197.24</td>\n",
       "      <td>23.43</td>\n",
       "    </tr>\n",
       "    <tr>\n",
       "      <th>9982</th>\n",
       "      <td>3.83</td>\n",
       "      <td>14.69</td>\n",
       "      <td>56.31</td>\n",
       "      <td>7.58</td>\n",
       "    </tr>\n",
       "    <tr>\n",
       "      <th>9983</th>\n",
       "      <td>7.52</td>\n",
       "      <td>56.52</td>\n",
       "      <td>424.95</td>\n",
       "      <td>53.04</td>\n",
       "    </tr>\n",
       "    <tr>\n",
       "      <th>9984</th>\n",
       "      <td>2.66</td>\n",
       "      <td>7.06</td>\n",
       "      <td>18.74</td>\n",
       "      <td>1.27</td>\n",
       "    </tr>\n",
       "    <tr>\n",
       "      <th>9985</th>\n",
       "      <td>4.92</td>\n",
       "      <td>24.20</td>\n",
       "      <td>119.02</td>\n",
       "      <td>13.39</td>\n",
       "    </tr>\n",
       "    <tr>\n",
       "      <th>9986</th>\n",
       "      <td>2.34</td>\n",
       "      <td>5.47</td>\n",
       "      <td>12.81</td>\n",
       "      <td>-0.74</td>\n",
       "    </tr>\n",
       "    <tr>\n",
       "      <th>9987</th>\n",
       "      <td>2.89</td>\n",
       "      <td>8.35</td>\n",
       "      <td>24.15</td>\n",
       "      <td>0.68</td>\n",
       "    </tr>\n",
       "    <tr>\n",
       "      <th>9988</th>\n",
       "      <td>1.45</td>\n",
       "      <td>2.10</td>\n",
       "      <td>3.05</td>\n",
       "      <td>-1.54</td>\n",
       "    </tr>\n",
       "    <tr>\n",
       "      <th>9989</th>\n",
       "      <td>3.16</td>\n",
       "      <td>9.96</td>\n",
       "      <td>31.42</td>\n",
       "      <td>0.86</td>\n",
       "    </tr>\n",
       "    <tr>\n",
       "      <th>9990</th>\n",
       "      <td>3.01</td>\n",
       "      <td>9.03</td>\n",
       "      <td>27.15</td>\n",
       "      <td>2.35</td>\n",
       "    </tr>\n",
       "    <tr>\n",
       "      <th>9991</th>\n",
       "      <td>3.69</td>\n",
       "      <td>13.60</td>\n",
       "      <td>50.18</td>\n",
       "      <td>5.44</td>\n",
       "    </tr>\n",
       "    <tr>\n",
       "      <th>9992</th>\n",
       "      <td>-1.46</td>\n",
       "      <td>2.13</td>\n",
       "      <td>-3.10</td>\n",
       "      <td>2.20</td>\n",
       "    </tr>\n",
       "    <tr>\n",
       "      <th>9993</th>\n",
       "      <td>8.21</td>\n",
       "      <td>67.48</td>\n",
       "      <td>554.27</td>\n",
       "      <td>69.06</td>\n",
       "    </tr>\n",
       "    <tr>\n",
       "      <th>9994</th>\n",
       "      <td>-0.13</td>\n",
       "      <td>0.02</td>\n",
       "      <td>-0.00</td>\n",
       "      <td>-0.79</td>\n",
       "    </tr>\n",
       "    <tr>\n",
       "      <th>9995</th>\n",
       "      <td>5.18</td>\n",
       "      <td>26.83</td>\n",
       "      <td>138.97</td>\n",
       "      <td>16.54</td>\n",
       "    </tr>\n",
       "    <tr>\n",
       "      <th>9996</th>\n",
       "      <td>1.25</td>\n",
       "      <td>1.57</td>\n",
       "      <td>1.96</td>\n",
       "      <td>-0.69</td>\n",
       "    </tr>\n",
       "    <tr>\n",
       "      <th>9997</th>\n",
       "      <td>3.64</td>\n",
       "      <td>13.27</td>\n",
       "      <td>48.32</td>\n",
       "      <td>4.45</td>\n",
       "    </tr>\n",
       "    <tr>\n",
       "      <th>9998</th>\n",
       "      <td>3.66</td>\n",
       "      <td>13.38</td>\n",
       "      <td>48.95</td>\n",
       "      <td>5.00</td>\n",
       "    </tr>\n",
       "    <tr>\n",
       "      <th>9999</th>\n",
       "      <td>6.61</td>\n",
       "      <td>43.72</td>\n",
       "      <td>289.08</td>\n",
       "      <td>36.40</td>\n",
       "    </tr>\n",
       "  </tbody>\n",
       "</table>\n",
       "<p>10000 rows × 4 columns</p>\n",
       "</div>"
      ],
      "text/plain": [
       "          0       1        2      3\n",
       "0     -1.38    1.90    -2.63   2.47\n",
       "1     -5.41   29.29  -158.48  10.00\n",
       "2     -4.30   18.49   -79.50   9.28\n",
       "3     -6.01   36.06  -216.56   8.63\n",
       "4     -6.42   41.22  -264.65   9.57\n",
       "5     -4.24   17.96   -76.12   8.30\n",
       "6     -5.45   29.65  -161.45  11.06\n",
       "7     -6.27   39.26  -246.03  10.75\n",
       "8     -0.39    0.15    -0.06   0.10\n",
       "9     -6.78   46.02  -312.15   7.87\n",
       "10    -6.17   38.03  -234.56   8.84\n",
       "11    -5.08   25.86  -131.47   9.81\n",
       "12    -5.95   35.36  -210.30   9.04\n",
       "13    -5.34   28.53  -152.39   9.30\n",
       "14    -8.82   77.83  -686.69  -2.12\n",
       "15    -7.57   57.30  -433.71   4.79\n",
       "16    -5.01   25.08  -125.61  10.22\n",
       "17    -3.31   10.97   -36.34   6.22\n",
       "18    -8.83   78.01  -688.98  -1.93\n",
       "19    -2.75    7.59   -20.89   6.19\n",
       "20    -6.83   46.61  -318.19   7.42\n",
       "21    -8.13   66.07  -537.05   2.95\n",
       "22    -5.84   34.13  -199.36   9.15\n",
       "23    -6.10   37.27  -227.50  10.73\n",
       "24    -6.58   43.34  -285.29   8.29\n",
       "25   -10.35  107.05 -1107.64 -19.49\n",
       "26    -5.77   33.25  -191.69   9.55\n",
       "27    -5.34   28.55  -152.59  10.21\n",
       "28    -4.29   18.40   -78.91   8.31\n",
       "29    -4.50   20.22   -90.95   9.03\n",
       "...     ...     ...      ...    ...\n",
       "9970   5.50   30.22   166.14  20.82\n",
       "9971   3.70   13.69    50.68   3.85\n",
       "9972   5.15   26.53   136.66  17.07\n",
       "9973   6.65   44.20   293.88  37.33\n",
       "9974   4.77   22.79   108.78  12.67\n",
       "9975   4.13   17.10    70.69   6.73\n",
       "9976   6.66   44.37   295.57  37.97\n",
       "9977   6.16   37.91   233.38  28.71\n",
       "9978   5.28   27.85   146.97  17.69\n",
       "9979   5.87   34.49   202.59  26.10\n",
       "9980   2.82    7.95    22.43   0.15\n",
       "9981   5.82   33.88   197.24  23.43\n",
       "9982   3.83   14.69    56.31   7.58\n",
       "9983   7.52   56.52   424.95  53.04\n",
       "9984   2.66    7.06    18.74   1.27\n",
       "9985   4.92   24.20   119.02  13.39\n",
       "9986   2.34    5.47    12.81  -0.74\n",
       "9987   2.89    8.35    24.15   0.68\n",
       "9988   1.45    2.10     3.05  -1.54\n",
       "9989   3.16    9.96    31.42   0.86\n",
       "9990   3.01    9.03    27.15   2.35\n",
       "9991   3.69   13.60    50.18   5.44\n",
       "9992  -1.46    2.13    -3.10   2.20\n",
       "9993   8.21   67.48   554.27  69.06\n",
       "9994  -0.13    0.02    -0.00  -0.79\n",
       "9995   5.18   26.83   138.97  16.54\n",
       "9996   1.25    1.57     1.96  -0.69\n",
       "9997   3.64   13.27    48.32   4.45\n",
       "9998   3.66   13.38    48.95   5.00\n",
       "9999   6.61   43.72   289.08  36.40\n",
       "\n",
       "[10000 rows x 4 columns]"
      ]
     },
     "execution_count": 48,
     "metadata": {},
     "output_type": "execute_result"
    }
   ],
   "source": [
    "#проверка на лишние объекты\n",
    "pd.DataFrame(np.concatenate((Xtr, ytr), axis=1).round(2)).drop_duplicates()"
   ]
  },
  {
   "cell_type": "markdown",
   "metadata": {},
   "source": [
    "Видим, что все элементы уникальны, значит ничего удалять не имеет смысла."
   ]
  },
  {
   "cell_type": "markdown",
   "metadata": {},
   "source": [
    "-------------------------------------------------------------"
   ]
  },
  {
   "cell_type": "markdown",
   "metadata": {},
   "source": [
    "Для оценки результатов работы модели разобъем выборку на обучающую (train) и валидационную (test)    "
   ]
  },
  {
   "cell_type": "code",
   "execution_count": 11,
   "metadata": {},
   "outputs": [],
   "source": [
    "xtrain, xtest, ytrain, ytest = train_test_split(Xtr, ytr, test_size=0.2, shuffle = True, random_state=42)"
   ]
  },
  {
   "cell_type": "markdown",
   "metadata": {},
   "source": [
    "Приведем данные к нормальному виду с мат.ожиданием 0 и дисперсией 1 (как можно увидеть из гистограмм выше, на текущий момент данные имеют крайне разную размерность)"
   ]
  },
  {
   "cell_type": "code",
   "execution_count": 12,
   "metadata": {},
   "outputs": [],
   "source": [
    "sc = StandardScaler()\n",
    "xtrain = sc.fit_transform(xtrain)\n",
    "xtest = sc.transform(xtest)"
   ]
  },
  {
   "cell_type": "markdown",
   "metadata": {},
   "source": [
    "Важно, что для нормировки мы фитимся на данные исключительно из `train`, потому что на стадии обучения информации о `test` у нас ещё нет.    "
   ]
  },
  {
   "cell_type": "markdown",
   "metadata": {},
   "source": [
    "На стадии препроцессинга добавим к матрице объектов-признаков столбец единиц, который будет отвечать за свободный член в линейной регрессии.   \n",
    "Это можно сделать как вручную:"
   ]
  },
  {
   "cell_type": "code",
   "execution_count": 13,
   "metadata": {},
   "outputs": [],
   "source": [
    "#Xtr = np.c_[ Xtr, np.ones(len(Xtr)) ]"
   ]
  },
  {
   "cell_type": "markdown",
   "metadata": {},
   "source": [
    "Так и с помощью `PolynomialFeatures` с выставленным значением `include_bias=True`"
   ]
  },
  {
   "cell_type": "code",
   "execution_count": 14,
   "metadata": {},
   "outputs": [],
   "source": [
    "model = PolynomialFeatures(degree=1, include_bias=True)\n",
    "\n",
    "xtrain = model.fit_transform(xtrain)\n",
    "xtest = model.fit_transform(xtest)"
   ]
  },
  {
   "cell_type": "markdown",
   "metadata": {},
   "source": [
    "`PolynomialFeatures` также можно использовать для увеличения признакового пространства, образуя признаки из уже существующих, возводя их в степень и перемножая между собой.    "
   ]
  },
  {
   "cell_type": "markdown",
   "metadata": {},
   "source": [
    "## Реализация алгоритма"
   ]
  },
  {
   "cell_type": "code",
   "execution_count": 15,
   "metadata": {},
   "outputs": [],
   "source": [
    "class Differentiable:\n",
    "    def __init__(self):\n",
    "        pass\n",
    "    \n",
    "    def forward(self, **kwargs):\n",
    "        raise NotImplementedError()\n",
    "    \n",
    "    def backward(self, **kwargs):\n",
    "\n",
    "        raise NotImplementedError()"
   ]
  },
  {
   "cell_type": "code",
   "execution_count": 16,
   "metadata": {},
   "outputs": [],
   "source": [
    "class loss(Differentiable):\n",
    "    def __init__(self):\n",
    "        super(loss, self).__init__()\n",
    "    \n",
    "    def forward(self, y_pred, y_true):\n",
    "        # Этот метод реализует вычисление значения функции потерь\n",
    "        # Подсказка: метод должен возвращать единственный скаляр - значение функции потерь\n",
    "        #реализовать нормировку на длину y\n",
    "        ### YOUR CODE HERE\n",
    "        loss_value = sum((y_pred - y_true)**2)/len(y_pred)\n",
    "                \n",
    "        return loss_value\n",
    "    \n",
    "    \n",
    "    def backward(self, y_pred, y_true):\n",
    "        # Этот метод реализует вычисление градиента функции потерь по аргументу y_pred\n",
    "        # Подсказка: метод должен возвращать вектор градиента функции потерь\n",
    "        #           размерностью, совпадающей с размерностью аргумента y_pred       \n",
    "        ### YOUR CODE HERE\n",
    "        partial_grad = 2*(y_pred-y_true)/len(y_pred)\n",
    "        \n",
    "        return partial_grad"
   ]
  },
  {
   "cell_type": "code",
   "execution_count": 17,
   "metadata": {},
   "outputs": [],
   "source": [
    "class linear_regression(Differentiable):\n",
    "    def __init__(self):\n",
    "        super(linear_regression, self).__init__()\n",
    "        self.theta = None\n",
    "    \n",
    "    def __call__(self, X):\n",
    "        # этот метод предназначен для вычисления значения целевой переменной\n",
    "        return self.forward(X)\n",
    "    \n",
    "    def backward(self, X):\n",
    "        # Этот метод реализует вычисление компоненты градиента функции потерь    \n",
    "        ### YOUR CODE HERE\n",
    "        partial_grad = X\n",
    "        \n",
    "        return partial_grad\n",
    "    \n",
    "    def forward(self, X):\n",
    "        # этот метод предназначен для применения модели к данным\n",
    "        assert X.ndim == 2, \"X should be 2-dimensional: (N of objects, n of features)\"\n",
    "        \n",
    "        if (self.theta is None):\n",
    "            # Если вектор параметров еще не инициализирован, его следует инициализировать\n",
    "            # Подсказка: длина вектора параметров может быть получена из размера матрицы X\n",
    "            ### YOUR CODE HERE\n",
    "            #self.theta = np.zeros((X.shape[-1], 1))\n",
    "            self.theta = np.random.randn(X.shape[-1]).reshape(X.shape[-1],1) + 1\n",
    "        \n",
    "        \n",
    "        # Здесь следует собственно применить модель к входным данным\n",
    "        # Подсказка: удобно расширить матрицу X дополнительным признаком,\n",
    "        #            чтобы применять матричные операции, очень эффективно реализованные в numpy\n",
    "        ### YOUR CODE HERE\n",
    "        y_pred = X@self.theta\n",
    "        \n",
    "        return y_pred"
   ]
  },
  {
   "cell_type": "markdown",
   "metadata": {},
   "source": [
    "В рамках работы внутрь цикла был добавлен подсчёт не только функции потерь обучающей выборки, которая нужна для визуализации процесса обучения, но и функции потерь на валидационной выборке.    \n",
    "Обучение на валидационной выборке не ведётся, но постоянное сравнение с ней может дать нам понять, в какой момент начнётся переобучение (в то время, как функция потерь на тестовой выборке всегда падает, функция потерь на валидации может начать расти после некоторого поколения, это и будет обозначать переобучение)"
   ]
  },
  {
   "cell_type": "code",
   "execution_count": 18,
   "metadata": {},
   "outputs": [],
   "source": [
    "def train_loop(xtrain, ytrain, xtest, ytest, model, loss_fn, epochs=100):\n",
    "    loss_history = []\n",
    "    loss_validation_history = []\n",
    "    pbar = tqdm(total=epochs)\n",
    "    alpha=1e-1\n",
    "    for epoch in range(epochs):\n",
    "        # В этом цикле следует реализовать итеративную процедуру оптимизации параметров модели model,\n",
    "        #        руководствуясь функцией потерь loss_fn\n",
    "        \n",
    "        ### YOUR CODE HERE\n",
    "        loss_value = loss_fn.forward(model.forward(xtrain), ytrain)\n",
    "        loss_validation_value = loss_fn.forward(model.forward(xtest), ytest)\n",
    "        grad = model.backward(xtrain).T @ loss_fn.backward(model.forward(xtrain), ytrain)\n",
    "        model.theta = model.theta - alpha*grad\n",
    "\n",
    "        \n",
    "        loss_history.append(loss_value)\n",
    "        loss_validation_history.append(loss_validation_value)\n",
    "        pbar.update(1)\n",
    "        pbar.set_postfix({'loss': loss_value, 'loss_validation': loss_validation_value})\n",
    "    pbar.close()\n",
    "    return loss_history, loss_validation_history, model.theta"
   ]
  },
  {
   "cell_type": "code",
   "execution_count": 19,
   "metadata": {},
   "outputs": [
    {
     "name": "stderr",
     "output_type": "stream",
     "text": [
      "100%|██████████| 300/300 [00:23<00:00, 12.93it/s, loss=[0.52515092], loss_validation=[0.54068536]]  \n"
     ]
    }
   ],
   "source": [
    "obj_fn = loss()\n",
    "lr_model = linear_regression()\n",
    "loss_history, loss_validation_history, weights = train_loop(xtrain, ytrain, \n",
    "                                                            xtest, ytest, lr_model, obj_fn, epochs=300)"
   ]
  },
  {
   "cell_type": "code",
   "execution_count": 62,
   "metadata": {},
   "outputs": [
    {
     "data": {
      "image/png": "[encoded data removed]",
      "text/plain": [
       "<Figure size 432x288 with 1 Axes>"
      ]
     },
     "metadata": {
      "needs_background": "light"
     },
     "output_type": "display_data"
    },
    {
     "data": {
      "image/png": "[encoded data removed]",
      "text/plain": [
       "<Figure size 432x288 with 1 Axes>"
      ]
     },
     "metadata": {
      "needs_background": "light"
     },
     "output_type": "display_data"
    },
    {
     "data": {
      "image/png": "[encoded data removed]",
      "text/plain": [
       "<Figure size 432x288 with 1 Axes>"
      ]
     },
     "metadata": {
      "needs_background": "light"
     },
     "output_type": "display_data"
    }
   ],
   "source": [
    "plt.plot(loss_history)\n",
    "plt.title('loss function train')\n",
    "plt.xlabel('epoch')\n",
    "plt.ylabel('loss value')\n",
    "plt.show()\n",
    "plt.plot(loss_validation_history)\n",
    "plt.title('loss function valid')\n",
    "plt.xlabel('epoch')\n",
    "plt.ylabel('loss value')\n",
    "plt.show()\n",
    "plt.plot(abs(np.array(loss_history) - np.array(loss_validation_history)))\n",
    "plt.title('absolute diff between valid and train')\n",
    "plt.xlabel('epoch')\n",
    "plt.ylabel('loss abs difference')\n",
    "plt.show()"
   ]
  },
  {
   "cell_type": "markdown",
   "metadata": {},
   "source": [
    "Видно, что в ходе работы линейной регрессии, алгоритм экспоненциально быстро достигает высокой точности, при этом переобучение не наблюдается, ошибка на test ни в какой момент не начинает расти."
   ]
  },
  {
   "cell_type": "markdown",
   "metadata": {},
   "source": [
    "## Анализ результатов"
   ]
  },
  {
   "cell_type": "markdown",
   "metadata": {},
   "source": [
    "Чтобы проверить правильность реализованного нами алгоритма, можно обратиться непосредственно к градиентному спуску, реализованному в sklearn. Проверим точность с нашими данными на нём."
   ]
  },
  {
   "cell_type": "code",
   "execution_count": 49,
   "metadata": {},
   "outputs": [],
   "source": [
    "from sklearn.linear_model import SGDRegressor\n",
    "from sklearn.pipeline import make_pipeline"
   ]
  },
  {
   "cell_type": "code",
   "execution_count": 50,
   "metadata": {},
   "outputs": [],
   "source": [
    "reg = make_pipeline(StandardScaler(),\n",
    "                    SGDRegressor(max_iter=1000, tol=1e-1))"
   ]
  },
  {
   "cell_type": "code",
   "execution_count": 51,
   "metadata": {},
   "outputs": [],
   "source": [
    "reg.fit(xtrain, ytrain.T[0])\n",
    "y_pred = reg.predict(xtest)\n",
    "y_pred = np.array([y_pred])"
   ]
  },
  {
   "cell_type": "code",
   "execution_count": 52,
   "metadata": {},
   "outputs": [
    {
     "data": {
      "text/plain": [
       "0.5416836808422626"
      ]
     },
     "execution_count": 52,
     "metadata": {},
     "output_type": "execute_result"
    }
   ],
   "source": [
    "sum((np.array(y_pred[0]) - np.array(ytest.T[0]))**2)/len(ytest)"
   ]
  },
  {
   "cell_type": "code",
   "execution_count": 60,
   "metadata": {},
   "outputs": [
    {
     "data": {
      "text/plain": [
       "14.409094853138177"
      ]
     },
     "execution_count": 60,
     "metadata": {},
     "output_type": "execute_result"
    }
   ],
   "source": [
    "expect_val=0\n",
    "for i in range (len(ytest)):\n",
    "    expect_val+=ytest[i]\n",
    "expect_val = expect_val/len(ytest)\n",
    "expect_val[0]"
   ]
  },
  {
   "cell_type": "markdown",
   "metadata": {},
   "source": [
    "* Видно, что результат предсказания, полученный в ходе работы stochastic gradient descent совпадает с результатом алгоритма, реализованным нами, с точностью до **3** знака. Таким образом нашу реализацию можно считать успешной.    \n",
    "* При этом полученную точность можно субъективно считать высокой, **MSE = 0.54** при матожидании около **14.4**.    \n",
    "* Таким образом, можно считать модель линейной регрессии удачной для решения данной задачи.    \n",
    "* Входные данные обладали одним лишним признаком, и не имели дублирующих, лишних объектов внутри себя.  \n",
    "* Анализируя поведение функции потерь на выборках, можно сделать вывод, что **300** поколений хватает для обучения модели, недообучение и переобучение не наблюдается (также, если увеличить число поколений до **1000**, переобучения так же не будет, однако loss function будет меняться слабо, тч смысл в этом есть, только если уменьшать шаг (alpha). Это потенциально должно дать ещё более высокую точность, но я в данном случае удовлетворён уже полученным качеством.)\n",
    "* Также можно отметить, что всё ещё остаётся возможность использовать `PolynomialFeatures` для расширения признакового пространства, и потенциального улучшения резальтата, однако, как сказано ранее, я считаю полученную точность достаточно высокой."
   ]
  }
 ],
 "metadata": {
  "kernelspec": {
   "display_name": "Python 3",
   "language": "python",
   "name": "python3"
  },
  "language_info": {
   "codemirror_mode": {
    "name": "ipython",
    "version": 3
   },
   "file_extension": ".py",
   "mimetype": "text/x-python",
   "name": "python",
   "nbconvert_exporter": "python",
   "pygments_lexer": "ipython3",
   "version": "3.7.3"
  }
 },
 "nbformat": 4,
 "nbformat_minor": 2
}
